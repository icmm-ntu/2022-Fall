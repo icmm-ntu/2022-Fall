{
 "cells": [
  {
   "cell_type": "code",
   "execution_count": 8,
   "id": "5d301382",
   "metadata": {},
   "outputs": [
    {
     "name": "stdout",
     "output_type": "stream",
     "text": [
      "What is your name? ChihhungChen\n",
      "Hello, ChihhungChen.\n",
      "Hello, World.\n",
      "Good night, World.\n"
     ]
    }
   ],
   "source": [
    "name = input(\"What is your name? \")# Read data from user\n",
    "print (\"Hello, %s.\" % name)\n",
    "#=====\n",
    "name = 'World'#define data here \n",
    "print (\"Hello, %s.\" % name)\n",
    "#use number sign for single-line comment\n",
    "\"\"\"\n",
    "multi-line comments\n",
    "\"\"\"\n",
    "print (\"Good night, %s.\" % name)"
   ]
  },
  {
   "cell_type": "code",
   "execution_count": 17,
   "id": "60099d0c",
   "metadata": {},
   "outputs": [
    {
     "name": "stdout",
     "output_type": "stream",
     "text": [
      "2022-09-15 14:43:13.563506\n",
      "Current date and time:\n",
      "Current year: 2022\n",
      "Current month: 9\n",
      "Current day: 15\n",
      "Current hour: 14\n",
      "Current minute: 43\n",
      "Current second: 13\n",
      "Current date and time using strftime:\n",
      "2022-09-15 14:43:13\n",
      "okay\n"
     ]
    }
   ],
   "source": [
    "import datetime as dt # import datetime module, call it \"dt\"\n",
    "now = dt.datetime.now() #submodule\n",
    "print (now)\n",
    "print (\"Current date and time:\")\n",
    "print (\"Current year: %d\" % now.year)\n",
    "print (\"Current month: %d\" % now.month)\n",
    "print (\"Current day: %d\" % now.day)\n",
    "print (\"Current hour: %d\" % now.hour)\n",
    "print (\"Current minute: %d\" % now.minute)\n",
    "print (\"Current second: %d\" % now.second)\n",
    "print (\"Current date and time using strftime:\")\n",
    "print (now.strftime(\"%Y-%m-%d %H:%M:%S\")) #define string format, Year-Month-Date Hour-Minute-Second\n",
    "print (\"okay\")\n",
    "\n"
   ]
  },
  {
   "cell_type": "code",
   "execution_count": 24,
   "id": "e14f6d3a",
   "metadata": {},
   "outputs": [
    {
     "name": "stdout",
     "output_type": "stream",
     "text": [
      "<class 'str'>\n",
      "1010\n",
      "<class 'float'>\n",
      "20.0\n"
     ]
    }
   ],
   "source": [
    "a = \"10\"\n",
    "print (type(a))\n",
    "\n",
    "print (a + a)\n",
    "\n",
    "#====\n",
    "a = float(a) # converting string to float\n",
    "print(type(a)) #str(a), int(a),...\n",
    "print (a + a)\n",
    "\n"
   ]
  },
  {
   "cell_type": "code",
   "execution_count": null,
   "id": "10f858c7",
   "metadata": {},
   "outputs": [],
   "source": []
  },
  {
   "cell_type": "code",
   "execution_count": 9,
   "id": "db38ca80",
   "metadata": {},
   "outputs": [
    {
     "name": "stdout",
     "output_type": "stream",
     "text": [
      "a + b =  5\n",
      "a + b = 5\n"
     ]
    }
   ],
   "source": [
    "\n",
    "a = 2\n",
    "b = 3\n",
    "c = a + b \n",
    "print (\"a + b = \", c)\n",
    "print (\"a + b = %d\"%(c))\n",
    "\n",
    "#=====\n",
    "d = a * b\n",
    "print (\"a * b = \", d)\n",
    "print (\"a * b = %d\"%(d))\n",
    "\n",
    "#=====\n",
    "e = a / b # 2/3=0.6666\n",
    "print (\"a / b =\", e)\n"
   ]
  },
  {
   "cell_type": "code",
   "execution_count": 14,
   "id": "3e04bfdf",
   "metadata": {},
   "outputs": [
    {
     "name": "stdout",
     "output_type": "stream",
     "text": [
      "3^2 = 9.00\n",
      "3^2 = 9.00\n",
      "3^2 = 9.00\n"
     ]
    }
   ],
   "source": [
    "print (\"3^2 = %.2f\"%(3.*3.))\n",
    "print (\"3^2 = %.2f\"%(3.** 2.))\n",
    "print (\"3^2 = %.2f\"%(pow(3.,2.)))"
   ]
  },
  {
   "cell_type": "code",
   "execution_count": 20,
   "id": "1ef6fabc",
   "metadata": {},
   "outputs": [
    {
     "name": "stdout",
     "output_type": "stream",
     "text": [
      " a & b =  12\n",
      "a | b =  61\n",
      "a ^ b =  49\n",
      "~a  =  -61\n",
      "a << 2 =  240\n",
      "a >> 2 =  15\n"
     ]
    }
   ],
   "source": [
    "a = 60            # 60 = 0011 1100 \n",
    "b = 13            # 13 = 0000 1101 \n",
    "c = 0\n",
    "\n",
    "c = a & b;        # 12 = 0000 1100\n",
    "print (\" a & b = \", c)\n",
    "\n",
    "c = a | b;        # 61 = 0011 1101 \n",
    "print (\"a | b = \", c)\n",
    "\n",
    "c = a ^ b;        # 49 = 0011 0001\n",
    "print (\"a ^ b = \", c)\n",
    "\n",
    "c = ~a;           # -61 = 1100 0011\n",
    "print (\"~a  = \", c)\n",
    "\n",
    "c = a << 2;       # 240 = 1111 0000\n",
    "print (\"a << 2 = \", c)\n",
    "\n",
    "c = a >> 2;       # 15 = 0000 1111\n",
    "print (\"a >> 2 = \", c)"
   ]
  },
  {
   "cell_type": "code",
   "execution_count": 28,
   "id": "88986704",
   "metadata": {},
   "outputs": [
    {
     "name": "stdout",
     "output_type": "stream",
     "text": [
      "Kinectic energy is 110.250 J\n"
     ]
    }
   ],
   "source": [
    "\n",
    "import numpy as np\n",
    "#---------- Method 1 ----------\n",
    "mass = 2. #kg\n",
    "velocity = -10.5 #m/s\n",
    "KE = 0.5 * mass * velocity**2.\n",
    "print (\"Kinectic energy is %.3f J\"%(KE))\n"
   ]
  },
  {
   "cell_type": "code",
   "execution_count": 33,
   "id": "efbb8053",
   "metadata": {},
   "outputs": [
    {
     "name": "stdout",
     "output_type": "stream",
     "text": [
      "Kinectic energy is 110.250 J\n"
     ]
    }
   ],
   "source": [
    "#define function \n",
    "def ComputeKE(m,v):\n",
    "    KE = 0.5 * m * v**2\n",
    "    return KE\n",
    "\n",
    "#====\n",
    "mass = 2. #kg\n",
    "velocity = -10.5 #m/s \n",
    "KE = ComputeKE(mass, velocity)\n",
    "print (\"Kinectic energy is %.3f J\"%(KE))\n",
    "\n"
   ]
  },
  {
   "cell_type": "code",
   "execution_count": 36,
   "id": "56b88853",
   "metadata": {},
   "outputs": [
    {
     "name": "stdout",
     "output_type": "stream",
     "text": [
      "Kinectic energy is 110.250 J\n",
      "Kinectic energy is 3.125 J\n",
      "Kinectic energy is 0.045 J\n"
     ]
    }
   ],
   "source": [
    "\n",
    "#====\n",
    "mass = 2. #kg\n",
    "velocity = -10.5 #m/s \n",
    "KE = ComputeKE(mass, velocity)\n",
    "print (\"Kinectic energy is %.3f J\"%(KE))\n",
    "#====\n",
    "mass = 1. #kg\n",
    "velocity = 2.5 #m/s \n",
    "KE = ComputeKE(mass, velocity)\n",
    "print (\"Kinectic energy is %.3f J\"%(KE))\n",
    "\n",
    "#====\n",
    "mass = 1. #kg\n",
    "velocity = 0.3 #m/s \n",
    "KE = ComputeKE(mass, velocity)\n",
    "print (\"Kinectic energy is %.3f J\"%(KE))"
   ]
  },
  {
   "cell_type": "code",
   "execution_count": 44,
   "id": "23e9297a",
   "metadata": {},
   "outputs": [
    {
     "name": "stdout",
     "output_type": "stream",
     "text": [
      "[2. 1. 1.]\n",
      "[-10.5   2.5   0.3]\n",
      "KE are 110.250J,3.125J, 0.045J \n"
     ]
    }
   ],
   "source": [
    "mass = np.array([2.0,1.0, 1.0 ]) # in units of kg\n",
    "velocity = np.array([-10.5,2.5, 0.3 ]) # in units of m/s\n",
    "print (mass)\n",
    "print (velocity)\n",
    "KE = ComputeKE(mass, velocity)\n",
    "#print (KE)\n",
    "print (\"KE are %.3fJ,%.3fJ, %.3fJ \"%(KE[0],KE[1],KE[2]))"
   ]
  },
  {
   "cell_type": "code",
   "execution_count": 50,
   "id": "9f47bac2",
   "metadata": {},
   "outputs": [
    {
     "name": "stdout",
     "output_type": "stream",
     "text": [
      "123.00000000000011\n"
     ]
    }
   ],
   "source": [
    "sum = 0.0\n",
    "\n",
    "\n",
    "for i in range(100):\n",
    "    #print(i)\n",
    "    sum = 1.23 + sum\n",
    "        \n",
    "print (sum)    "
   ]
  },
  {
   "cell_type": "code",
   "execution_count": 53,
   "id": "efc054ae",
   "metadata": {},
   "outputs": [
    {
     "name": "stdout",
     "output_type": "stream",
     "text": [
      "difference =  -1.1368683772161603e-13\n",
      "-1.14e-13\n"
     ]
    }
   ],
   "source": [
    "sum = 0.0\n",
    "for i in range(100):\n",
    "    sum += 1.23\n",
    "\n",
    "diff = 123. - sum\n",
    "print (\"difference = \", diff)\n",
    "print (round(diff,15))\n"
   ]
  },
  {
   "cell_type": "code",
   "execution_count": 56,
   "id": "940f14ff",
   "metadata": {},
   "outputs": [
    {
     "name": "stdout",
     "output_type": "stream",
     "text": [
      "difference =  0.0\n",
      "0.0\n"
     ]
    }
   ],
   "source": [
    "sum = 0.0\n",
    "for i in range(1000):\n",
    "    sum += 0.125\n",
    "\n",
    "diff = 125. - sum\n",
    "print (\"difference = \", diff)\n",
    "print (round(diff,15))\n",
    "\n"
   ]
  },
  {
   "cell_type": "code",
   "execution_count": 60,
   "id": "6bb304aa",
   "metadata": {},
   "outputs": [
    {
     "name": "stdout",
     "output_type": "stream",
     "text": [
      "total = 37425.27242124738\n"
     ]
    }
   ],
   "source": [
    "import numpy as np\n",
    "epsilon = 0.05/365.#daily interest rate\n",
    "# Method 1 - for loop \n",
    "sum = 0.\n",
    "for iteration in range(365):\n",
    "    #print (iteration)\n",
    "    sum += 100. * (1.+ epsilon)**(iteration)\n",
    "print (\"total =\", sum)  \n",
    "\n"
   ]
  },
  {
   "cell_type": "code",
   "execution_count": 61,
   "id": "17865b2f",
   "metadata": {},
   "outputs": [
    {
     "data": {
      "text/plain": [
       "925.2724212473768"
      ]
     },
     "execution_count": 61,
     "metadata": {},
     "output_type": "execute_result"
    }
   ],
   "source": [
    "sum - 100. * 365"
   ]
  },
  {
   "cell_type": "code",
   "execution_count": 62,
   "id": "03a3dfd1",
   "metadata": {},
   "outputs": [
    {
     "name": "stdout",
     "output_type": "stream",
     "text": [
      "total (default precision) = 37425.27242123654\n"
     ]
    }
   ],
   "source": [
    "#----------\n",
    "# Method 2 - formula for geometric series\n",
    "#=== default precision\n",
    "sum =  100. * ((1.+epsilon)**365.-1)/epsilon #double precision, default\n",
    "print (\"total (default precision) =\", sum) \n",
    "\n"
   ]
  },
  {
   "cell_type": "code",
   "execution_count": 63,
   "id": "a6fe1026",
   "metadata": {},
   "outputs": [
    {
     "data": {
      "text/plain": [
       "-1.0833900887519121e-08"
      ]
     },
     "execution_count": 63,
     "metadata": {},
     "output_type": "execute_result"
    }
   ],
   "source": [
    "37425.27242123654  - 37425.27242124738"
   ]
  },
  {
   "cell_type": "code",
   "execution_count": 66,
   "id": "af50fb65",
   "metadata": {},
   "outputs": [
    {
     "name": "stdout",
     "output_type": "stream",
     "text": [
      "total (double precision) = 37425.27242123654\n",
      "total (single precision) = 37425.273\n",
      "total (half precision) = 37440.0\n"
     ]
    }
   ],
   "source": [
    "\n",
    "\n",
    "#=== double precision\n",
    "sum =  np.float64(100. * ((1.+epsilon)**365.-1)/epsilon) #double precision\n",
    "print (\"total (double precision) =\", sum)\n",
    "\n",
    "\n",
    "\n",
    "#=== single precision\n",
    "sum =  np.float32(100. * ((1.+epsilon)**365.-1)/epsilon) #single precision\n",
    "print (\"total (single precision) =\", sum)  \n",
    "\n",
    "\n",
    "#=== half precision\n",
    "sum =  np.float16(100. * ((1.+epsilon)**365.-1)/epsilon) #half precision\n",
    "print (\"total (half precision) =\", sum)\n",
    "\n",
    "\n"
   ]
  },
  {
   "cell_type": "code",
   "execution_count": 7,
   "id": "725f2d1c",
   "metadata": {},
   "outputs": [
    {
     "name": "stdout",
     "output_type": "stream",
     "text": [
      "[  3.14159265   7.06858347  19.63495408  63.61725124 346.36059006]\n"
     ]
    }
   ],
   "source": [
    "\n",
    "\n",
    "\n",
    "\n",
    "\n",
    "def Compute_Area(radius):\n",
    "    area =  np.pi * radius ** 2.\n",
    "    return area\n",
    "\n",
    "\n",
    "radius = np.array([1., 1.5, 2.5, 4.5, 10.5])\n",
    "area = Compute_Area(radius)\n",
    "\n",
    "print (area)\n",
    "\n"
   ]
  },
  {
   "cell_type": "code",
   "execution_count": 27,
   "id": "a03d1c2a",
   "metadata": {},
   "outputs": [
    {
     "data": {
      "image/png": "[encoded data removed]",
      "text/plain": [
       "<Figure size 432x288 with 1 Axes>"
      ]
     },
     "metadata": {
      "needs_background": "light"
     },
     "output_type": "display_data"
    }
   ],
   "source": [
    "import matplotlib.pyplot as plt\n",
    "\n",
    "#plt.clf() # clear figure\n",
    "plt.plot(radius,area , 'b^--')\n",
    "plt.xlabel(\"$R$ (m)\",fontsize = 20)\n",
    "plt.ylabel(\"$\\pi R^2 (m^2) $ \",fontsize = 20)\n",
    "#plt.xlabel(r\"$R$\", fontsize = 20)\n",
    "#plt.ylabel(r\"$A = \\pi R^2 $\", fontsize = 20)\n",
    "#plt.xlim(0,1)\n",
    "#plt.ylim(0,4)\n",
    "plt.savefig(\"AreaCaluculation.png\")\n",
    "\n",
    "\n"
   ]
  },
  {
   "cell_type": "code",
   "execution_count": null,
   "id": "f2c3b0fa",
   "metadata": {},
   "outputs": [],
   "source": []
  },
  {
   "cell_type": "code",
   "execution_count": null,
   "id": "e404ddc2",
   "metadata": {},
   "outputs": [],
   "source": []
  }
 ],
 "metadata": {
  "kernelspec": {
   "display_name": "Python 3 (ipykernel)",
   "language": "python",
   "name": "python3"
  },
  "language_info": {
   "codemirror_mode": {
    "name": "ipython",
    "version": 3
   },
   "file_extension": ".py",
   "mimetype": "text/x-python",
   "name": "python",
   "nbconvert_exporter": "python",
   "pygments_lexer": "ipython3",
   "version": "3.9.12"
  }
 },
 "nbformat": 4,
 "nbformat_minor": 5
}
