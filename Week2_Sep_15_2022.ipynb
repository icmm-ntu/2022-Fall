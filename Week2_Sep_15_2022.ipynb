{
 "cells": [
  {
   "cell_type": "code",
   "execution_count": 8,
   "id": "4321df9f",
   "metadata": {},
   "outputs": [
    {
     "name": "stdout",
     "output_type": "stream",
     "text": [
      "What is your name? ChihhungChen\n",
      "Hello, ChihhungChen.\n",
      "Hello, World.\n",
      "Good night, World.\n"
     ]
    }
   ],
   "source": [
    "name = input(\"What is your name? \")# Read data from user\n",
    "print (\"Hello, %s.\" % name)\n",
    "#=====\n",
    "name = 'World'#define data here \n",
    "print (\"Hello, %s.\" % name)\n",
    "#use number sign for single-line comment\n",
    "\"\"\"\n",
    "multi-line comments\n",
    "\"\"\"\n",
    "print (\"Good night, %s.\" % name)"
   ]
  },
  {
   "cell_type": "code",
   "execution_count": 17,
   "id": "a184457c",
   "metadata": {},
   "outputs": [
    {
     "name": "stdout",
     "output_type": "stream",
     "text": [
      "2022-09-15 14:43:13.563506\n",
      "Current date and time:\n",
      "Current year: 2022\n",
      "Current month: 9\n",
      "Current day: 15\n",
      "Current hour: 14\n",
      "Current minute: 43\n",
      "Current second: 13\n",
      "Current date and time using strftime:\n",
      "2022-09-15 14:43:13\n",
      "okay\n"
     ]
    }
   ],
   "source": [
    "import datetime as dt # import datetime module, call it \"dt\"\n",
    "now = dt.datetime.now() #submodule\n",
    "print (now)\n",
    "print (\"Current date and time:\")\n",
    "print (\"Current year: %d\" % now.year)\n",
    "print (\"Current month: %d\" % now.month)\n",
    "print (\"Current day: %d\" % now.day)\n",
    "print (\"Current hour: %d\" % now.hour)\n",
    "print (\"Current minute: %d\" % now.minute)\n",
    "print (\"Current second: %d\" % now.second)\n",
    "print (\"Current date and time using strftime:\")\n",
    "print (now.strftime(\"%Y-%m-%d %H:%M:%S\")) #define string format, Year-Month-Date Hour-Minute-Second\n",
    "print (\"okay\")\n",
    "\n"
   ]
  },
  {
   "cell_type": "code",
   "execution_count": 24,
   "id": "7a465dce",
   "metadata": {},
   "outputs": [
    {
     "name": "stdout",
     "output_type": "stream",
     "text": [
      "<class 'str'>\n",
      "1010\n",
      "<class 'float'>\n",
      "20.0\n"
     ]
    }
   ],
   "source": [
    "a = \"10\"\n",
    "print (type(a))\n",
    "\n",
    "print (a + a)\n",
    "\n",
    "#====\n",
    "a = float(a) # converting string to float\n",
    "print(type(a)) #str(a), int(a),...\n",
    "print (a + a)\n",
    "\n"
   ]
  },
  {
   "cell_type": "code",
   "execution_count": null,
   "id": "20658dbf",
   "metadata": {},
   "outputs": [],
   "source": []
  },
  {
   "cell_type": "code",
   "execution_count": 9,
   "id": "604fdf4a",
   "metadata": {},
   "outputs": [
    {
     "name": "stdout",
     "output_type": "stream",
     "text": [
      "a + b =  5\n",
      "a + b = 5\n"
     ]
    }
   ],
   "source": [
    "\n",
    "a = 2\n",
    "b = 3\n",
    "c = a + b \n",
    "print (\"a + b = \", c)\n",
    "print (\"a + b = %d\"%(c))\n",
    "\n",
    "#=====\n",
    "d = a * b\n",
    "print (\"a * b = \", d)\n",
    "print (\"a * b = %d\"%(d))\n",
    "\n",
    "#=====\n",
    "e = a / b # 2/3=0.6666\n",
    "print (\"a / b =\", e)\n"
   ]
  },
  {
   "cell_type": "code",
   "execution_count": 14,
   "id": "349d59e6",
   "metadata": {},
   "outputs": [
    {
     "name": "stdout",
     "output_type": "stream",
     "text": [
      "3^2 = 9.00\n",
      "3^2 = 9.00\n",
      "3^2 = 9.00\n"
     ]
    }
   ],
   "source": [
    "print (\"3^2 = %.2f\"%(3.*3.))\n",
    "print (\"3^2 = %.2f\"%(3.** 2.))\n",
    "print (\"3^2 = %.2f\"%(pow(3.,2.)))"
   ]
  },
  {
   "cell_type": "code",
   "execution_count": 20,
   "id": "bbb4a088",
   "metadata": {},
   "outputs": [
    {
     "name": "stdout",
     "output_type": "stream",
     "text": [
      " a & b =  12\n",
      "a | b =  61\n",
      "a ^ b =  49\n",
      "~a  =  -61\n",
      "a << 2 =  240\n",
      "a >> 2 =  15\n"
     ]
    }
   ],
   "source": [
    "a = 60            # 60 = 0011 1100 \n",
    "b = 13            # 13 = 0000 1101 \n",
    "c = 0\n",
    "\n",
    "c = a & b;        # 12 = 0000 1100\n",
    "print (\" a & b = \", c)\n",
    "\n",
    "c = a | b;        # 61 = 0011 1101 \n",
    "print (\"a | b = \", c)\n",
    "\n",
    "c = a ^ b;        # 49 = 0011 0001\n",
    "print (\"a ^ b = \", c)\n",
    "\n",
    "c = ~a;           # -61 = 1100 0011\n",
    "print (\"~a  = \", c)\n",
    "\n",
    "c = a << 2;       # 240 = 1111 0000\n",
    "print (\"a << 2 = \", c)\n",
    "\n",
    "c = a >> 2;       # 15 = 0000 1111\n",
    "print (\"a >> 2 = \", c)"
   ]
  },
  {
   "cell_type": "code",
   "execution_count": 28,
   "id": "0beba09f",
   "metadata": {},
   "outputs": [
    {
     "name": "stdout",
     "output_type": "stream",
     "text": [
      "Kinectic energy is 110.250 J\n"
     ]
    }
   ],
   "source": [
    "\n",
    "import numpy as np\n",
    "#---------- Method 1 ----------\n",
    "mass = 2. #kg\n",
    "velocity = -10.5 #m/s\n",
    "KE = 0.5 * mass * velocity**2.\n",
    "print (\"Kinectic energy is %.3f J\"%(KE))\n"
   ]
  },
  {
   "cell_type": "code",
   "execution_count": 31,
   "id": "88d81d00",
   "metadata": {},
   "outputs": [
    {
     "data": {
      "text/plain": [
       "0.00075"
      ]
     },
     "execution_count": 31,
     "metadata": {},
     "output_type": "execute_result"
    }
   ],
   "source": [
    "#define function \n",
    "def ComputeKE(mass,velocity):\n",
    "    KE = 0.5 * mass * velocity**2\n",
    "    return KE\n",
    "\n",
    "#====\n",
    "mass = 2. #kg\n",
    "velocity = -10.5 #m/s \n",
    "KE = ComputeKE(mass, velocity)\n",
    "print (\"Kinectic energy is %.3f J\"%(KE))\n",
    "\n"
   ]
  },
  {
   "cell_type": "code",
   "execution_count": null,
   "id": "fda8e9b0",
   "metadata": {},
   "outputs": [],
   "source": [
    "#---------- Method 2 ----------\n",
    "def ComputeKE(m,v):\n",
    "    ans = 0.5 * m * v**2 #Indentation, 4 white space \n",
    "    return ans\n",
    "KE = ComputeKE(mass, velocity)\n",
    "print (\"Kinectic energy is %.3f J\"%(KE))\n",
    "\n"
   ]
  },
  {
   "cell_type": "code",
   "execution_count": null,
   "id": "f60d199d",
   "metadata": {},
   "outputs": [],
   "source": []
  },
  {
   "cell_type": "code",
   "execution_count": 27,
   "id": "58def09c",
   "metadata": {},
   "outputs": [
    {
     "name": "stdout",
     "output_type": "stream",
     "text": [
      "~a  =  59\n"
     ]
    }
   ],
   "source": [
    "a = -60\n",
    "c = ~a;           # -61 = 1100 0011\n",
    "print (\"~a  = \", c)"
   ]
  },
  {
   "cell_type": "code",
   "execution_count": null,
   "id": "3c216a8d",
   "metadata": {},
   "outputs": [],
   "source": []
  }
 ],
 "metadata": {
  "kernelspec": {
   "display_name": "Python 3 (ipykernel)",
   "language": "python",
   "name": "python3"
  },
  "language_info": {
   "codemirror_mode": {
    "name": "ipython",
    "version": 3
   },
   "file_extension": ".py",
   "mimetype": "text/x-python",
   "name": "python",
   "nbconvert_exporter": "python",
   "pygments_lexer": "ipython3",
   "version": "3.9.12"
  }
 },
 "nbformat": 4,
 "nbformat_minor": 5
}
