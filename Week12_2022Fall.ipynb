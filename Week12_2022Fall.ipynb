{
 "cells": [
  {
   "cell_type": "markdown",
   "id": "3c9aef36",
   "metadata": {},
   "source": [
    "\n",
    "# Unit 5.2c: Simple harmonic oscillation -- Runge-Kutta (RK2)\n",
    "\n",
    "\n",
    "One 2nd-ODE $\\to $ Two 1st-ODEs\n",
    "$$\n",
    "\\frac{d^{2}x}{dt^{2}}=-\\omega^{2}x\\Rightarrow\\begin{cases}\n",
    "\\frac{dx}{dt}=v\\\\\n",
    "\\frac{dv}{dt}=-\\omega^{2}x\n",
    "\\end{cases}\n",
    "$$\n",
    "- Thus, in Euler method $K_1$ for $v$ and $x$ are given:\n",
    "\\begin{align*}\n",
    "K_{1}^{x} & = hv_{n} \\\\\n",
    "K_{1}^{v} & =h\\left(-\\omega^{2}x_{n}\\right)\n",
    "\\end{align*}\n",
    "\n",
    "- $x$ and $v$ at middle point:\n",
    "\n",
    "$$x_{n+1/2}\t=\tx_n+\\frac{K_{1}^{x}}{2}=x_n+\\frac{h}{2}v_n$$\n",
    "\n",
    "$$v_{n+1/2}\t=\tv_n+\\frac{K_{1}^{v}}{2}=v_n+\\frac{h}{2}\\left(-\\omega^2x_{n}\\right)$$\n",
    "\n",
    "- $f^x$ and $f^v$ at middle point:\n",
    "\n",
    "$$f_{n+1/2}^{x}=v_{n+1/2}$$\n",
    "\n",
    "$$f_{n+1/2}^{v}=-\\omega^{2}x_{n+1/2}$$\n",
    "\n",
    "- $x$ and $v$ at new time step $t_{n+1}$\n",
    "\n",
    "$$x_{n+1}^{RK2}  = x_{n}+ h f^x_{n+1/2} = x_{n}+v_{n}h-\\omega^{2}x_{n}\\frac{h^{2}}{2}$$\n",
    "\n",
    "$$v_{n+1}^{RK2}  = v_{n}+ h f^v_{n+1/2} = v_{n}-\\omega^{2}x_{n}h-\\omega^{2}v_{n}\\frac{h^{2}}{2}$$\n"
   ]
  },
  {
   "cell_type": "code",
   "execution_count": null,
   "id": "2bda2308",
   "metadata": {},
   "outputs": [],
   "source": [
    "\n",
    "x_arr = np.zeros(Nt+1)\n",
    "v_arr = np.zeros(Nt+1)\n",
    "t_arr = np.linspace(0,total_time,Nt+1)\n",
    "h = total_time / Nt\n",
    "\n",
    "x_arr[0] = A\n",
    "v_arr[0] = 0.\n",
    "for i in range(Nt):\n",
    "    x_arr[i+1] = ...\n",
    "    v_arr[i+1] = ...\n",
    "    \n",
    "plt.plot(t_arr, x_arr, '--r',label = 'RK2 Solution') \n",
    "plt.legend(loc=\"upper left\")\n",
    "plt.tight_layout()\n",
    "#plt.savefig(\"Unit5.2c_SHO_RK2.png\")\n",
    "\n"
   ]
  }
 ],
 "metadata": {
  "kernelspec": {
   "display_name": "Python 3 (ipykernel)",
   "language": "python",
   "name": "python3"
  },
  "language_info": {
   "codemirror_mode": {
    "name": "ipython",
    "version": 3
   },
   "file_extension": ".py",
   "mimetype": "text/x-python",
   "name": "python",
   "nbconvert_exporter": "python",
   "pygments_lexer": "ipython3",
   "version": "3.9.12"
  }
 },
 "nbformat": 4,
 "nbformat_minor": 5
}
