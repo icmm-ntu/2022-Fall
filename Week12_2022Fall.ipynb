{
 "cells": [
  {
   "cell_type": "markdown",
   "id": "9dac5303",
   "metadata": {},
   "source": [
    "\n",
    "# Unit 5.2c: Simple harmonic oscillation -- Runge-Kutta (RK2)\n",
    "\n",
    "\n",
    "One 2nd-ODE $\\to $ Two 1st-ODEs\n",
    "$$\n",
    "\\frac{d^{2}x}{dt^{2}}=-\\omega^{2}x\\Rightarrow\\begin{cases}\n",
    "\\frac{dx}{dt}=v\\\\\n",
    "\\frac{dv}{dt}=-\\omega^{2}x\n",
    "\\end{cases}\n",
    "$$\n",
    "- Thus, in Euler method $K_1$ for $v$ and $x$ are given:\n",
    "\\begin{align*}\n",
    "K_{1}^{x} & = hv_{n} \\\\\n",
    "K_{1}^{v} & =h\\left(-\\omega^{2}x_{n}\\right)\n",
    "\\end{align*}\n",
    "\n",
    "- $x$ and $v$ at middle point:\n",
    "\n",
    "$$x_{n+1/2}\t=\tx_n+\\frac{K_{1}^{x}}{2}=x_n+\\frac{h}{2}v_n$$\n",
    "\n",
    "$$v_{n+1/2}\t=\tv_n+\\frac{K_{1}^{v}}{2}=v_n+\\frac{h}{2}\\left(-\\omega^2x_{n}\\right)$$\n",
    "\n",
    "- $f^x$ and $f^v$ at middle point:\n",
    "\n",
    "$$f_{n+1/2}^{x}=v_{n+1/2}$$\n",
    "\n",
    "$$f_{n+1/2}^{v}=-\\omega^{2}x_{n+1/2}$$\n",
    "\n",
    "- $x$ and $v$ at new time step $t_{n+1}$\n",
    "\n",
    "$$x_{n+1}^{RK2}  = x_{n}+ h f^x_{n+1/2} = x_{n}+v_{n}h-\\omega^{2}x_{n}\\frac{h^{2}}{2}$$\n",
    "\n",
    "$$v_{n+1}^{RK2}  = v_{n}+ h f^v_{n+1/2} = v_{n}-\\omega^{2}x_{n}h-\\omega^{2}v_{n}\\frac{h^{2}}{2}$$\n"
   ]
  },
  {
   "cell_type": "code",
   "execution_count": 7,
   "id": "a1c52c4f",
   "metadata": {},
   "outputs": [
    {
     "ename": "NameError",
     "evalue": "name 'K2_v' is not defined",
     "output_type": "error",
     "traceback": [
      "\u001b[0;31m---------------------------------------------------------------------------\u001b[0m",
      "\u001b[0;31mNameError\u001b[0m                                 Traceback (most recent call last)",
      "Input \u001b[0;32mIn [7]\u001b[0m, in \u001b[0;36m<cell line: 31>\u001b[0;34m()\u001b[0m\n\u001b[1;32m     39\u001b[0m v_mid \u001b[38;5;241m=\u001b[39m v_n \u001b[38;5;241m+\u001b[39m \u001b[38;5;241m0.5\u001b[39m \u001b[38;5;241m*\u001b[39m K1_v\n\u001b[1;32m     40\u001b[0m \u001b[38;5;66;03m#==== RK2\u001b[39;00m\n\u001b[0;32m---> 41\u001b[0m [K2_x, K2_v] \u001b[38;5;241m=\u001b[39m \u001b[43mCompute_K2\u001b[49m\u001b[43m(\u001b[49m\u001b[43mx_mid\u001b[49m\u001b[43m,\u001b[49m\u001b[43mv_mid\u001b[49m\u001b[43m,\u001b[49m\u001b[43mh\u001b[49m\u001b[43m)\u001b[49m\n\u001b[1;32m     42\u001b[0m x_arr[n\u001b[38;5;241m+\u001b[39m\u001b[38;5;241m1\u001b[39m] \u001b[38;5;241m=\u001b[39m x_n \u001b[38;5;241m+\u001b[39m K2_x\n\u001b[1;32m     43\u001b[0m v_arr[n\u001b[38;5;241m+\u001b[39m\u001b[38;5;241m1\u001b[39m] \u001b[38;5;241m=\u001b[39m v_n \u001b[38;5;241m+\u001b[39m K2_v\n",
      "Input \u001b[0;32mIn [7]\u001b[0m, in \u001b[0;36mCompute_K2\u001b[0;34m(x_mid, v_mid, h)\u001b[0m\n\u001b[1;32m     26\u001b[0m K2_x \u001b[38;5;241m=\u001b[39m h \u001b[38;5;241m*\u001b[39m fx\n\u001b[1;32m     27\u001b[0m k2_v \u001b[38;5;241m=\u001b[39m h \u001b[38;5;241m*\u001b[39m fv\n\u001b[0;32m---> 28\u001b[0m \u001b[38;5;28;01mreturn\u001b[39;00m [K2_x, \u001b[43mK2_v\u001b[49m]\n",
      "\u001b[0;31mNameError\u001b[0m: name 'K2_v' is not defined"
     ]
    }
   ],
   "source": [
    "import numpy as np\n",
    "import matplotlib.pyplot as plt\n",
    "\n",
    "Nt = 10000 # total number of time interval\n",
    "total_time = 100. # seconds\n",
    "t_arr = np.linspace(0,total_time,Nt+1)\n",
    "x_arr = np.zeros(Nt+1)\n",
    "v_arr = np.zeros(Nt+1)\n",
    "h = total_time / Nt\n",
    "omega = 1.0 # angular velocity \n",
    "\n",
    "x_arr[0] = 1. # meters\n",
    "v_arr[0] = 0. # m/s\n",
    "\n",
    "def Compute_K1(x_n,v_n,h):\n",
    "    fx = v_n\n",
    "    fv = -omega**2.0 * x_n\n",
    "    K1_x = h * fx\n",
    "    K1_v = h * fv\n",
    "    return [K1_x, K1_v]\n",
    "    \n",
    "    \n",
    "def Compute_K2(x_mid,v_mid,h):\n",
    "    fx = v_mid\n",
    "    fv = -omega**2.0 * x_mid\n",
    "    K2_x = h * fx\n",
    "    K2_v = h * fv\n",
    "    return [K2_x, K2_v]\n",
    "    \n",
    "\n",
    "for n in range(Nt):\n",
    "    #x_arr[n+1] = x_arr[n] + v_arr[n] * h - omega**2. * x_arr[n] * h**2./2.0\n",
    "    #v_arr[n+1] = v_arr[n] - omega**2 * x_arr[n] * h - omega**2. * v_arr[n] * h**2. /2.0\n",
    "    x_n = x_arr[n]\n",
    "    v_n = v_arr[n]\n",
    "    #=== Euler\n",
    "    [K1_x, K1_v] = Compute_K1(x_n,v_n,h)\n",
    "    x_mid = x_n + 0.5 * K1_x\n",
    "    v_mid = v_n + 0.5 * K1_v\n",
    "    #==== RK2\n",
    "    [K2_x, K2_v] = Compute_K2(x_mid,v_mid,h)\n",
    "    x_arr[n+1] = x_n + K2_x\n",
    "    v_arr[n+1] = v_n + K2_v\n",
    "    \n",
    "    \n",
    "plt.plot(t_arr, x_arr, '--r',label = 'RK2 Solution') \n",
    "plt.plot(t_arr, np.cos(omega * t_arr), '-k', label = 'Analytic Solution')\n",
    "plt.legend(loc=\"upper left\")\n",
    "plt.tight_layout()\n",
    "#plt.savefig(\"Unit5.2c_SHO_RK2.png\")\n",
    "\n"
   ]
  },
  {
   "cell_type": "code",
   "execution_count": null,
   "id": "18471f1b",
   "metadata": {},
   "outputs": [],
   "source": []
  }
 ],
 "metadata": {
  "kernelspec": {
   "display_name": "Python 3 (ipykernel)",
   "language": "python",
   "name": "python3"
  },
  "language_info": {
   "codemirror_mode": {
    "name": "ipython",
    "version": 3
   },
   "file_extension": ".py",
   "mimetype": "text/x-python",
   "name": "python",
   "nbconvert_exporter": "python",
   "pygments_lexer": "ipython3",
   "version": "3.9.12"
  }
 },
 "nbformat": 4,
 "nbformat_minor": 5
}
