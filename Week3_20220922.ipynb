{
 "cells": [
  {
   "cell_type": "code",
   "execution_count": null,
   "id": "5677105d",
   "metadata": {},
   "outputs": [],
   "source": [
    "\n",
    "#r1 = 3\n",
    "\n",
    "#r2 = (a * r1 + c) % M\n",
    "#print (r2)\n",
    "\n",
    "\n",
    "#r3 =  (a * r2 + c) % M\n",
    "#print (r3)\n",
    "\n",
    "\n"
   ]
  },
  {
   "cell_type": "code",
   "execution_count": 13,
   "id": "84b23bd7",
   "metadata": {},
   "outputs": [
    {
     "name": "stdout",
     "output_type": "stream",
     "text": [
      "iter = 0, random number = 4\n",
      "iter = 1, random number = 8\n",
      "iter = 2, random number = 6\n",
      "iter = 3, random number = 7\n",
      "iter = 4, random number = 2\n",
      "iter = 5, random number = 0\n",
      "iter = 6, random number = 1\n",
      "iter = 7, random number = 5\n",
      "iter = 8, random number = 3\n",
      "iter = 9, random number = 4\n",
      "iter = 10, random number = 8\n",
      "iter = 11, random number = 6\n",
      "iter = 12, random number = 7\n",
      "iter = 13, random number = 2\n",
      "iter = 14, random number = 0\n",
      "iter = 15, random number = 1\n",
      "iter = 16, random number = 5\n",
      "iter = 17, random number = 3\n",
      "iter = 18, random number = 4\n",
      "iter = 19, random number = 8\n"
     ]
    }
   ],
   "source": [
    "def LCG(a,c,M,r):\n",
    "    r_next = (a * r + c) % M\n",
    "    return r_next\n",
    "\n",
    "a = 4\n",
    "c = 1\n",
    "M = 9 \n",
    "r = 3\n",
    "\n",
    "#=====\n",
    "for iter in range(20):\n",
    "    #print (iter)\n",
    "    r =  LCG(a,c,M,r)\n",
    "    print (\"iter = %d, random number = %d\"%(iter,r))\n",
    "\n",
    "    \n",
    "    "
   ]
  },
  {
   "cell_type": "code",
   "execution_count": null,
   "id": "aa881518",
   "metadata": {},
   "outputs": [],
   "source": []
  }
 ],
 "metadata": {
  "kernelspec": {
   "display_name": "Python 3 (ipykernel)",
   "language": "python",
   "name": "python3"
  },
  "language_info": {
   "codemirror_mode": {
    "name": "ipython",
    "version": 3
   },
   "file_extension": ".py",
   "mimetype": "text/x-python",
   "name": "python",
   "nbconvert_exporter": "python",
   "pygments_lexer": "ipython3",
   "version": "3.9.12"
  }
 },
 "nbformat": 4,
 "nbformat_minor": 5
}
