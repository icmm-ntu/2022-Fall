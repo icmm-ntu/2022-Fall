{
 "cells": [
  {
   "cell_type": "code",
   "execution_count": 1,
   "id": "786fe0d4",
   "metadata": {},
   "outputs": [
    {
     "name": "stdout",
     "output_type": "stream",
     "text": [
      "iter = 0, res = 1.00e+00\n",
      "iter = 1000, res = 9.96e-01\n",
      "iter = 2000, res = 1.38e-01\n",
      "iter = 3000, res = 1.92e-02\n",
      "iter = 4000, res = 2.66e-03\n"
     ]
    }
   ],
   "source": [
    "# Jacobi's Method\n",
    "import numpy as np\n",
    "import matplotlib.pyplot as plt\n",
    "from matplotlib import cm\n",
    "nx = 50 # total 50 intervals\n",
    "ny = 50 # total 50 intervals\n",
    "L = 2. # meters\n",
    "h = L/(nx)\n",
    "x = np.arange(nx+1) * h - 1.\n",
    "y = np.arange(ny+1) * h - 1.\n",
    "X, Y = np.meshgrid(x,y)\n",
    "\n",
    "#===\n",
    "def AssignSource_f(nx,ny,h):\n",
    "    f_arr = np.zeros([nx+1, ny+1])\n",
    "    for i in range(nx+1): \n",
    "        for j in range(ny+1):\n",
    "            pos_x = i * h - 1. # x position\n",
    "            pos_y = j * h - 1. # y position\n",
    "            if ((pos_x - 0.5)*(pos_x + 0.5)<=0) and ((pos_y - 0.5)*(pos_y + 0.5)<=0):\n",
    "                f_arr[i,j] = 1.\n",
    "    return f_arr\n",
    "\n",
    "\n",
    "#===\n",
    "u_old = np.ones([nx+1, ny+1])\n",
    "u_new = np.zeros([nx+1 , ny+1])\n",
    "f_arr = AssignSource_f(nx,ny,h)\n",
    "Iter_Max = 5000\n",
    "for iter in range(Iter_Max):\n",
    "    res = 0.\n",
    "    for i in range(1,nx): # except boundary\n",
    "        for j in range(1,ny): # except boundary \n",
    "            f_val = f_arr[i,j]    \n",
    "            delta = (u_old[i+1,j] + u_old[i-1,j] + u_old[i,j+1] + u_old[i,j-1]-4.*u_old[i,j])/h**2 + f_val\n",
    "            u_new[i,j] = 1./4 *(u_old[i+1,j] + u_old[i-1,j] + u_old[i,j+1] + u_old[i,j-1] + h**2. * f_val)\n",
    "            res = max(res,abs(delta))            \n",
    "    u_old[:] = u_new[:]\n",
    "    if iter%1000 == 0:\n",
    "        print (\"iter = {}, res = {:5.2e}\".format(iter, res))      "
   ]
  },
  {
   "cell_type": "code",
   "execution_count": null,
   "id": "7bebd609",
   "metadata": {},
   "outputs": [],
   "source": []
  }
 ],
 "metadata": {
  "kernelspec": {
   "display_name": "Python 3 (ipykernel)",
   "language": "python",
   "name": "python3"
  },
  "language_info": {
   "codemirror_mode": {
    "name": "ipython",
    "version": 3
   },
   "file_extension": ".py",
   "mimetype": "text/x-python",
   "name": "python",
   "nbconvert_exporter": "python",
   "pygments_lexer": "ipython3",
   "version": "3.9.12"
  }
 },
 "nbformat": 4,
 "nbformat_minor": 5
}
