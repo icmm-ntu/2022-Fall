{
 "cells": [
  {
   "cell_type": "markdown",
   "id": "6b0912a8",
   "metadata": {},
   "source": [
    "---\n",
    "# Unit 5.4: Verlet integration for simple harmonic oscillation\n",
    "\n",
    "\n",
    "- The Verlet integration for $x$ and $v$ are given\n",
    "\\begin{align*}\n",
    "x_{n+1} & =2x_{n}-x_{n-1}+a_{n}h^{2}\\\\\n",
    "v_{n} & =\\frac{x_{n+1}-x_{n-1}}{2h}\n",
    "\\end{align*}\n",
    "\n",
    "- $\\{x_0,x_1\\}$ are needed for Verlet method.\n",
    "\n",
    "- Let's apply Verlet for solving Simple Harmonic Oscillation.\n",
    "\n",
    "$$m\\ddot{x}=-kx\\Rightarrow a=-\\omega^{2}x $$\n",
    "\n",
    "Thus, \n",
    "\n",
    "\\begin{align*}\n",
    "x_{n+1} & =2x_{n}-x_{n-1}+a_{n}h^{2}\\\\\n",
    " & =2x_{n}-x_{n-1}+\\left(-\\omega^{2}x_{n}\\right)h^{2}\n",
    "\\end{align*}\n"
   ]
  },
  {
   "cell_type": "code",
   "execution_count": 22,
   "id": "1c0cb64a",
   "metadata": {},
   "outputs": [
    {
     "name": "stdout",
     "output_type": "stream",
     "text": [
      "okay\n"
     ]
    },
    {
     "data": {
      "text/plain": [
       "[<matplotlib.lines.Line2D at 0x7f1c483eceb0>]"
      ]
     },
     "execution_count": 22,
     "metadata": {},
     "output_type": "execute_result"
    },
    {
     "data": {
      "image/png": "[encoded data removed]",
      "text/plain": [
       "<Figure size 420x280 with 1 Axes>"
      ]
     },
     "metadata": {
      "needs_background": "light"
     },
     "output_type": "display_data"
    }
   ],
   "source": [
    "import numpy as np\n",
    "import matplotlib.pyplot as plt\n",
    "\n",
    "# x_n_1 = 2. * x_n - x_n-1 + (-omega**2 * x_n) * h**2\n",
    "h = 0.01 # step size for time discretization\n",
    "Nt = 1000\n",
    "total_time = Nt * h\n",
    "omega = 1. # \n",
    "x_arr = np.zeros(Nt+1)\n",
    "t_arr = np.linspace(0,total_time, Nt+1)\n",
    "x0,x1 = 1.0, 0.99\n",
    "x_arr[0] = x0\n",
    "x_arr[1] = x1\n",
    "\n",
    "for n in range(1,Nt):\n",
    "    x_arr[n+1] = 2. * x_arr[n] - x_arr[n-1] - omega**2 * x_arr[n] * h**2 # Verlet method \n",
    "    #print (n)\n",
    "    #print (x_arr[n+1])\n",
    "print (\"okay\")\n",
    "#===\n",
    "fig = plt.figure( dpi = 70 ) # dots per inch\n",
    "fig.set_size_inches(6,4)\n",
    "plt.plot(t_arr, x_arr)\n",
    "\n",
    "#print (x_arr)\n"
   ]
  },
  {
   "cell_type": "markdown",
   "id": "8e3e0536",
   "metadata": {},
   "source": [
    "    \n",
    "# Unit 5.5: Velocity Verlet integration for SHO\n",
    "\n",
    "---\n",
    "\n",
    "Verlet method can be modified into Velocity-Verlet method:\n",
    "\\begin{align}\n",
    "x_{n+1} & =x_{n}+hv_{n}+\\frac{1}{2}a_{n}h^{2}\\label{v-verlet_x}\\\\\n",
    "v_{n+1} & =v_{n}+\\frac{1}{2}\\left(a_{n}+a_{n+1}\\right)h\n",
    "\\end{align}\n",
    "\n",
    "\n",
    "\n"
   ]
  },
  {
   "cell_type": "code",
   "execution_count": null,
   "id": "2908e93c",
   "metadata": {},
   "outputs": [],
   "source": []
  }
 ],
 "metadata": {
  "kernelspec": {
   "display_name": "Python 3 (ipykernel)",
   "language": "python",
   "name": "python3"
  },
  "language_info": {
   "codemirror_mode": {
    "name": "ipython",
    "version": 3
   },
   "file_extension": ".py",
   "mimetype": "text/x-python",
   "name": "python",
   "nbconvert_exporter": "python",
   "pygments_lexer": "ipython3",
   "version": "3.9.12"
  }
 },
 "nbformat": 4,
 "nbformat_minor": 5
}
