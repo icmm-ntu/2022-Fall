{
 "cells": [
  {
   "cell_type": "markdown",
   "id": "be7a7cf1",
   "metadata": {},
   "source": [
    "---\n",
    "# Unit 5.4: Verlet integration for simple harmonic oscillation\n",
    "\n",
    "\n",
    "- The Verlet integration for $x$ and $v$ are given\n",
    "\\begin{align*}\n",
    "x_{n+1} & =2x_{n}-x_{n-1}+a_{n}h^{2}\\\\\n",
    "v_{n} & =\\frac{x_{n+1}-x_{n-1}}{2h}\n",
    "\\end{align*}\n",
    "\n",
    "- $\\{x_0,x_1\\}$ are needed for Verlet method.\n",
    "\n",
    "- Let's apply Verlet for solving Simple Harmonic Oscillation.\n",
    "\n",
    "$$m\\ddot{x}=-kx\\Rightarrow a=-\\omega^{2}x $$\n",
    "\n",
    "Thus, \n",
    "\n",
    "\\begin{align*}\n",
    "x_{n+1} & =2x_{n}-x_{n-1}+a_{n}h^{2}\\\\\n",
    " & =2x_{n}-x_{n-1}+\\left(-\\omega^{2}x_{n}\\right)h^{2}\n",
    "\\end{align*}\n"
   ]
  },
  {
   "cell_type": "code",
   "execution_count": null,
   "id": "5242616f",
   "metadata": {},
   "outputs": [],
   "source": []
  }
 ],
 "metadata": {
  "kernelspec": {
   "display_name": "Python 3 (ipykernel)",
   "language": "python",
   "name": "python3"
  },
  "language_info": {
   "codemirror_mode": {
    "name": "ipython",
    "version": 3
   },
   "file_extension": ".py",
   "mimetype": "text/x-python",
   "name": "python",
   "nbconvert_exporter": "python",
   "pygments_lexer": "ipython3",
   "version": "3.9.12"
  }
 },
 "nbformat": 4,
 "nbformat_minor": 5
}
