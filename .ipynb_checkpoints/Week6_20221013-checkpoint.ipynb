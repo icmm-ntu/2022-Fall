{
 "cells": [
  {
   "cell_type": "code",
   "execution_count": 2,
   "id": "fc649eb3",
   "metadata": {},
   "outputs": [
    {
     "name": "stdout",
     "output_type": "stream",
     "text": [
      "res = 9.38e-11\n",
      "u_vec = [11.  16.5 21.  23. ]\n",
      "iter_count = 662\n"
     ]
    }
   ],
   "source": [
    "import numpy as np\n",
    "\n",
    "# Jocobi Method\n",
    "\n",
    "\n",
    "A = np.array([[ 3., -2.,  0.,  0.],\n",
    "              [-2.,  4., -2.,  0.],\n",
    "              [ 0., -2.,  6., -4.],\n",
    "              [ 0.,  0., -4.,  4.]])\n",
    "\n",
    "D = np.array([[ 3., 0., 0., 0.],\n",
    "              [ 0., 4., 0., 0.],\n",
    "              [ 0., 0., 6., 0.],\n",
    "              [ 0., 0., 0., 4.]])\n",
    "\n",
    "L = np.array([[ 0.,  0.,  0.,  0.],\n",
    "              [-2.,  0.,  0.,  0.],\n",
    "              [ 0., -2.,  0.,  0.],\n",
    "              [ 0.,  0., -4.,  0.]])\n",
    "\n",
    "U = np.array([[ 0., -2., 0.,  0.],\n",
    "              [ 0., 0., -2.,  0.],\n",
    "              [ 0.,  0., 0., -4.],\n",
    "              [ 0.,  0., 0.,  0.]])\n",
    "\n",
    "b = np.array([0,2,1,8])\n",
    "u_vec = np.array([0,0,0,0.])\n",
    "u_vec_new = np.array([0,0,0,0.])\n",
    "\n",
    "residual_convergence = 1e-10\n",
    "residual = np.linalg.norm(np.dot(A, u_vec) - b) #Initial residual\n",
    "\n",
    "iter_count = 0\n",
    "while residual > residual_convergence:\n",
    "    iter_count+=1\n",
    "    for i in range(4):\n",
    "        sigma_i = 0\n",
    "        for j in range(4):\n",
    "            sigma_i += L[i][j] * u_vec[j] + U[i][j] * u_vec[j]\n",
    "        u_vec_new[i] = 1./D[i][i] * ( b[i] - sigma_i)\n",
    "    #swap \n",
    "    u_vec[:] = u_vec_new[:]\n",
    "    residual = np.linalg.norm(np.dot(A, u_vec) - b)\n",
    "\n",
    "print (\"res = {:5.2e}\".format(residual))\n",
    "print (\"u_vec = {}\".format(u_vec))\n",
    "print (\"iter_count = {}\".format(iter_count))\n",
    "\n",
    "#res = 9.38e-11\n",
    "#u_vec = [11.  16.5 21.  23. ]\n",
    "#iter_count = 662"
   ]
  },
  {
   "cell_type": "code",
   "execution_count": 3,
   "id": "9ceb8b46",
   "metadata": {},
   "outputs": [
    {
     "name": "stdout",
     "output_type": "stream",
     "text": [
      "res = 9.51e-11\n",
      "u_vec = [11.  16.5 21.  23. ]\n",
      "iter_count = 332\n"
     ]
    }
   ],
   "source": [
    "# GS method\n",
    "\n",
    "u_vec = np.array([0,0,0,0.])\n",
    "u_vec_new = np.array([0,0,0,0.])\n",
    "\n",
    "residual_convergence = 1e-10\n",
    "residual = np.linalg.norm(np.dot(A, u_vec) - b) #Initial residual\n",
    "\n",
    "iter_count = 0\n",
    "while residual > residual_convergence:\n",
    "    iter_count+=1\n",
    "    for i in range(4):\n",
    "        sigma_i = 0\n",
    "        for j in range(4):\n",
    "            sigma_i += L[i][j] * u_vec_new[j] + U[i][j] * u_vec[j]\n",
    "        u_vec_new[i] = 1./D[i][i] * ( b[i] - sigma_i)\n",
    "    #swap \n",
    "    u_vec[:] = u_vec_new[:]\n",
    "    residual = np.linalg.norm(np.dot(A, u_vec) - b)\n",
    "\n",
    "print (\"res = {:5.2e}\".format(residual))\n",
    "print (\"u_vec = {}\".format(u_vec))\n",
    "print (\"iter_count = {}\".format(iter_count))\n",
    "\n",
    "#res = 9.51e-11\n",
    "#u_vec = [11.  16.5 21.  23. ]\n",
    "#iter_count = 332\n",
    "\n",
    "\n"
   ]
  },
  {
   "cell_type": "code",
   "execution_count": 13,
   "id": "238defb0",
   "metadata": {},
   "outputs": [
    {
     "name": "stdout",
     "output_type": "stream",
     "text": [
      "res = 8.98e-11\n",
      "u_vec = [11.  16.5 21.  23. ]\n",
      "iter_count = 54\n"
     ]
    }
   ],
   "source": [
    "\n",
    "\n",
    "\n",
    "\n",
    "# SOR method\n",
    "\n",
    "u_vec = np.array([0,0,0,0.])\n",
    "u_vec_new = np.array([0,0,0,0.])\n",
    "\n",
    "omega = 1.6\n",
    "\n",
    "residual_convergence = 1e-10\n",
    "residual = np.linalg.norm(np.dot(A, u_vec) - b) #Initial residual\n",
    "\n",
    "iter_count = 0\n",
    "while residual > residual_convergence:\n",
    "    iter_count+=1\n",
    "    for i in range(4):\n",
    "        sigma_i = 0\n",
    "        for j in range(4):\n",
    "            sigma_i += L[i][j] * u_vec_new[j] + U[i][j] * u_vec[j]\n",
    "        u_vec_new[i] = (1. - omega ) * u_vec[i] + omega/D[i][i] * ( b[i] - sigma_i)\n",
    "    #swap \n",
    "    u_vec[:] = u_vec_new[:]\n",
    "    residual = np.linalg.norm(np.dot(A, u_vec) - b)\n",
    "\n",
    "print (\"res = {:5.2e}\".format(residual))\n",
    "print (\"u_vec = {}\".format(u_vec))\n",
    "print (\"iter_count = {}\".format(iter_count))\n",
    "\n",
    "#res = 9.51e-11\n",
    "#u_vec = [11.  16.5 21.  23. ]\n",
    "#iter_count = 332\n",
    "\n",
    "\n"
   ]
  },
  {
   "cell_type": "code",
   "execution_count": 15,
   "id": "0a620af2",
   "metadata": {},
   "outputs": [
    {
     "name": "stdout",
     "output_type": "stream",
     "text": [
      "res = 8.98e-11\n",
      "u_vec = [11.  16.5 21.  23. ]\n",
      "iter_count = 54\n"
     ]
    }
   ],
   "source": [
    "u_vec = np.array([0,0,0,0.])\n",
    "u_vec_new = np.array([0,0,0,0.])\n",
    "residual_convergence = 1e-10\n",
    "omega = 1.6 #Relaxation factor\n",
    "residual = np.linalg.norm(np.dot(A, u_vec) - b) #Initial residual\n",
    "iter_count = 0\n",
    "while residual > residual_convergence:\n",
    "    iter_count+=1\n",
    "    for i in range(4): # range(4)\n",
    "        sigma_i = 0\n",
    "        for j in range(4): # range(4)\n",
    "            if (j<i):\n",
    "                sigma_i +=A[i][j] * u_vec_new[j]\n",
    "            if (j>i):\n",
    "                sigma_i +=A[i][j] * u_vec[j]\n",
    "\n",
    "        u_vec_new[i] = (1 - omega) * u_vec[i] + (omega / A[i][i]) * (b[i] - sigma_i)\n",
    "    u_vec[:] = u_vec_new[:]\n",
    "    residual = np.linalg.norm(np.dot(A, u_vec) - b)\n",
    "print (\"res = {:5.2e}\".format(residual))\n",
    "print (\"u_vec = {}\".format(u_vec))\n",
    "print (\"iter_count = {}\".format(iter_count))\n",
    "\n",
    "\n"
   ]
  },
  {
   "cell_type": "code",
   "execution_count": 16,
   "id": "06716e3c",
   "metadata": {},
   "outputs": [
    {
     "name": "stdout",
     "output_type": "stream",
     "text": [
      "res = 8.98e-11\n",
      "u_vec = [11.  16.5 21.  23. ]\n",
      "iter_count = 54\n"
     ]
    }
   ],
   "source": [
    "u_vec = np.array([0,0,0,0.])\n",
    "u_vec_new = np.array([0,0,0,0.])\n",
    "residual_convergence = 1e-10\n",
    "omega = 1.6 #Relaxation factor\n",
    "residual = np.linalg.norm(np.dot(A, u_vec) - b) #Initial residual\n",
    "iter_count = 0\n",
    "\n",
    "while residual > residual_convergence:\n",
    "    iter_count+=1\n",
    "    for i in range(4): \n",
    "        sigma_i = 0\n",
    "        for j in range(4):\n",
    "            if j != i:\n",
    "                sigma_i += A[i][j] * u_vec[j]\n",
    "        u_vec[i] = (1 - omega) * u_vec[i] + (omega / A[i][i]) * (b[i] - sigma_i)\n",
    "    residual = np.linalg.norm(np.dot(A, u_vec) - b)\n",
    "\n",
    "print (\"res = {:5.2e}\".format(residual))\n",
    "print (\"u_vec = {}\".format(u_vec))\n",
    "print (\"iter_count = {}\".format(iter_count))\n",
    "\n"
   ]
  },
  {
   "cell_type": "code",
   "execution_count": 1,
   "id": "790a6b23",
   "metadata": {},
   "outputs": [
    {
     "name": "stdout",
     "output_type": "stream",
     "text": [
      "a=[1 2 3]\n",
      "b=[1 2 3]\n",
      "a=[ 1 10  3]\n",
      "b=[ 1 10  3]\n",
      "==========\n"
     ]
    }
   ],
   "source": [
    "import numpy as np\n",
    "### Check 1\n",
    "a = np.array([1,2,3])\n",
    "b = np.array([10,20,30])\n",
    "b = a\n",
    "print (\"a={}\".format(a))\n",
    "print (\"b={}\".format(b))\n",
    "b[1] = 10\n",
    "print (\"a={}\".format(a))\n",
    "print (\"b={}\".format(b))\n",
    "print (\"==========\")\n",
    "#=====\n",
    "\n",
    "\n",
    "\n",
    "\n"
   ]
  },
  {
   "cell_type": "code",
   "execution_count": 2,
   "id": "8a8380bc",
   "metadata": {},
   "outputs": [
    {
     "name": "stdout",
     "output_type": "stream",
     "text": [
      "a=[1 2 3]\n",
      "b=[1 2 3]\n",
      "a=[1 2 3]\n",
      "b=[ 1 10  3]\n",
      "==========\n"
     ]
    }
   ],
   "source": [
    "\n",
    "\n",
    "\n",
    "### Check 2\n",
    "a = np.array([1,2,3])\n",
    "b = np.array([10,20,30])\n",
    "b[:] = a[:]\n",
    "print (\"a={}\".format(a))\n",
    "print (\"b={}\".format(b))\n",
    "b[1] = 10\n",
    "print (\"a={}\".format(a))\n",
    "print (\"b={}\".format(b))\n",
    "print (\"==========\")\n",
    "\n",
    "\n",
    "\n",
    "\n"
   ]
  },
  {
   "cell_type": "code",
   "execution_count": 3,
   "id": "2b4913cc",
   "metadata": {},
   "outputs": [
    {
     "name": "stdout",
     "output_type": "stream",
     "text": [
      "a=[1 2 3]\n",
      "b=[1 2 3]\n",
      "a=[1 2 3]\n",
      "b=[ 1 10  3]\n",
      "==========\n"
     ]
    }
   ],
   "source": [
    "### Check 3\n",
    "a = np.array([1,2,3])\n",
    "b = np.array([10,20,30])\n",
    "b=np.copy(a)\n",
    "print (\"a={}\".format(a))\n",
    "print (\"b={}\".format(b))\n",
    "b[1] = 10\n",
    "print (\"a={}\".format(a))\n",
    "print (\"b={}\".format(b))\n",
    "print (\"==========\")"
   ]
  },
  {
   "cell_type": "code",
   "execution_count": null,
   "id": "1aeb9be4",
   "metadata": {},
   "outputs": [],
   "source": [
    "\n",
    "\n",
    "k_01 = 1.\n",
    "k_12 = 1.\n",
    "....\n",
    "\n",
    "\n",
    "\n",
    "A = np.array([[k_01+k_12, -k_12, 0,  0.],\n",
    "              [-k_12, k_12+k_23, -k_23, 0],\n",
    "              [0, -k_23, k_23+k_34, -k_34],\n",
    "              [ 0.,  0., -k_34, k_34]])\n",
    "\n",
    "print (A)\n",
    "\n",
    "#===b_vec\n",
    "b1 = m1_g + k_01 * l_01 - k_12 * l_12\n",
    "b2 = m2_g + k_12 * l_12 - k_23 * l_23\n",
    "b3 = m3_g + k_23 * l_23 - k_34 * l_34\n",
    "b4 = m4_g + k_34 * l_34\n",
    "b_vec = np.array([b1, b2, b3, b4])\n",
    "\n",
    "\n",
    "#solve y1, y2, y3, y4\n",
    "\n",
    "\n"
   ]
  }
 ],
 "metadata": {
  "kernelspec": {
   "display_name": "Python 3 (ipykernel)",
   "language": "python",
   "name": "python3"
  },
  "language_info": {
   "codemirror_mode": {
    "name": "ipython",
    "version": 3
   },
   "file_extension": ".py",
   "mimetype": "text/x-python",
   "name": "python",
   "nbconvert_exporter": "python",
   "pygments_lexer": "ipython3",
   "version": "3.9.12"
  }
 },
 "nbformat": 4,
 "nbformat_minor": 5
}
