{
 "cells": [
  {
   "cell_type": "code",
   "execution_count": 2,
   "id": "fc649eb3",
   "metadata": {},
   "outputs": [
    {
     "name": "stdout",
     "output_type": "stream",
     "text": [
      "res = 9.38e-11\n",
      "u_vec = [11.  16.5 21.  23. ]\n",
      "iter_count = 662\n"
     ]
    }
   ],
   "source": [
    "import numpy as np\n",
    "\n",
    "# Jocobi Method\n",
    "\n",
    "\n",
    "A = np.array([[ 3., -2.,  0.,  0.],\n",
    "              [-2.,  4., -2.,  0.],\n",
    "              [ 0., -2.,  6., -4.],\n",
    "              [ 0.,  0., -4.,  4.]])\n",
    "\n",
    "D = np.array([[ 3., 0., 0., 0.],\n",
    "              [ 0., 4., 0., 0.],\n",
    "              [ 0., 0., 6., 0.],\n",
    "              [ 0., 0., 0., 4.]])\n",
    "\n",
    "L = np.array([[ 0.,  0.,  0.,  0.],\n",
    "              [-2.,  0.,  0.,  0.],\n",
    "              [ 0., -2.,  0.,  0.],\n",
    "              [ 0.,  0., -4.,  0.]])\n",
    "\n",
    "U = np.array([[ 0., -2., 0.,  0.],\n",
    "              [ 0., 0., -2.,  0.],\n",
    "              [ 0.,  0., 0., -4.],\n",
    "              [ 0.,  0., 0.,  0.]])\n",
    "\n",
    "b = np.array([0,2,1,8])\n",
    "u_vec = np.array([0,0,0,0.])\n",
    "u_vec_new = np.array([0,0,0,0.])\n",
    "\n",
    "residual_convergence = 1e-10\n",
    "residual = np.linalg.norm(np.dot(A, u_vec) - b) #Initial residual\n",
    "\n",
    "iter_count = 0\n",
    "while residual > residual_convergence:\n",
    "    iter_count+=1\n",
    "    for i in range(4):\n",
    "        sigma_i = 0\n",
    "        for j in range(4):\n",
    "            sigma_i += L[i][j] * u_vec[j] + U[i][j] * u_vec[j]\n",
    "        u_vec_new[i] = 1./D[i][i] * ( b[i] - sigma_i)\n",
    "    #swap \n",
    "    u_vec[:] = u_vec_new[:]\n",
    "    residual = np.linalg.norm(np.dot(A, u_vec) - b)\n",
    "\n",
    "print (\"res = {:5.2e}\".format(residual))\n",
    "print (\"u_vec = {}\".format(u_vec))\n",
    "print (\"iter_count = {}\".format(iter_count))\n",
    "\n",
    "#res = 9.38e-11\n",
    "#u_vec = [11.  16.5 21.  23. ]\n",
    "#iter_count = 662"
   ]
  },
  {
   "cell_type": "code",
   "execution_count": 3,
   "id": "9ceb8b46",
   "metadata": {},
   "outputs": [
    {
     "name": "stdout",
     "output_type": "stream",
     "text": [
      "res = 9.51e-11\n",
      "u_vec = [11.  16.5 21.  23. ]\n",
      "iter_count = 332\n"
     ]
    }
   ],
   "source": [
    "# GS method\n",
    "\n",
    "u_vec = np.array([0,0,0,0.])\n",
    "u_vec_new = np.array([0,0,0,0.])\n",
    "\n",
    "residual_convergence = 1e-10\n",
    "residual = np.linalg.norm(np.dot(A, u_vec) - b) #Initial residual\n",
    "\n",
    "iter_count = 0\n",
    "while residual > residual_convergence:\n",
    "    iter_count+=1\n",
    "    for i in range(4):\n",
    "        sigma_i = 0\n",
    "        for j in range(4):\n",
    "            sigma_i += L[i][j] * u_vec_new[j] + U[i][j] * u_vec[j]\n",
    "        u_vec_new[i] = 1./D[i][i] * ( b[i] - sigma_i)\n",
    "    #swap \n",
    "    u_vec[:] = u_vec_new[:]\n",
    "    residual = np.linalg.norm(np.dot(A, u_vec) - b)\n",
    "\n",
    "print (\"res = {:5.2e}\".format(residual))\n",
    "print (\"u_vec = {}\".format(u_vec))\n",
    "print (\"iter_count = {}\".format(iter_count))\n",
    "\n",
    "#res = 9.51e-11\n",
    "#u_vec = [11.  16.5 21.  23. ]\n",
    "#iter_count = 332\n",
    "\n",
    "\n"
   ]
  },
  {
   "cell_type": "code",
   "execution_count": 13,
   "id": "357e4d4d",
   "metadata": {},
   "outputs": [
    {
     "name": "stdout",
     "output_type": "stream",
     "text": [
      "res = 8.98e-11\n",
      "u_vec = [11.  16.5 21.  23. ]\n",
      "iter_count = 54\n"
     ]
    }
   ],
   "source": [
    "\n",
    "\n",
    "\n",
    "\n",
    "# SOR method\n",
    "\n",
    "u_vec = np.array([0,0,0,0.])\n",
    "u_vec_new = np.array([0,0,0,0.])\n",
    "\n",
    "omega = 1.6\n",
    "\n",
    "residual_convergence = 1e-10\n",
    "residual = np.linalg.norm(np.dot(A, u_vec) - b) #Initial residual\n",
    "\n",
    "iter_count = 0\n",
    "while residual > residual_convergence:\n",
    "    iter_count+=1\n",
    "    for i in range(4):\n",
    "        sigma_i = 0\n",
    "        for j in range(4):\n",
    "            sigma_i += L[i][j] * u_vec_new[j] + U[i][j] * u_vec[j]\n",
    "        u_vec_new[i] = (1. - omega ) * u_vec[i] + omega/D[i][i] * ( b[i] - sigma_i)\n",
    "    #swap \n",
    "    u_vec[:] = u_vec_new[:]\n",
    "    residual = np.linalg.norm(np.dot(A, u_vec) - b)\n",
    "\n",
    "print (\"res = {:5.2e}\".format(residual))\n",
    "print (\"u_vec = {}\".format(u_vec))\n",
    "print (\"iter_count = {}\".format(iter_count))\n",
    "\n",
    "#res = 9.51e-11\n",
    "#u_vec = [11.  16.5 21.  23. ]\n",
    "#iter_count = 332\n",
    "\n",
    "\n"
   ]
  },
  {
   "cell_type": "code",
   "execution_count": 15,
   "id": "17b9a8a3",
   "metadata": {},
   "outputs": [
    {
     "name": "stdout",
     "output_type": "stream",
     "text": [
      "res = 8.98e-11\n",
      "u_vec = [11.  16.5 21.  23. ]\n",
      "iter_count = 54\n"
     ]
    }
   ],
   "source": [
    "u_vec = np.array([0,0,0,0.])\n",
    "u_vec_new = np.array([0,0,0,0.])\n",
    "residual_convergence = 1e-10\n",
    "omega = 1.6 #Relaxation factor\n",
    "residual = np.linalg.norm(np.dot(A, u_vec) - b) #Initial residual\n",
    "iter_count = 0\n",
    "while residual > residual_convergence:\n",
    "    iter_count+=1\n",
    "    for i in range(4): # range(4)\n",
    "        sigma_i = 0\n",
    "        for j in range(4): # range(4)\n",
    "            if (j<i):\n",
    "                sigma_i +=A[i][j] * u_vec_new[j]\n",
    "            if (j>i):\n",
    "                sigma_i +=A[i][j] * u_vec[j]\n",
    "\n",
    "        u_vec_new[i] = (1 - omega) * u_vec[i] + (omega / A[i][i]) * (b[i] - sigma_i)\n",
    "    u_vec[:] = u_vec_new[:]\n",
    "    residual = np.linalg.norm(np.dot(A, u_vec) - b)\n",
    "print (\"res = {:5.2e}\".format(residual))\n",
    "print (\"u_vec = {}\".format(u_vec))\n",
    "print (\"iter_count = {}\".format(iter_count))\n",
    "\n",
    "\n"
   ]
  },
  {
   "cell_type": "code",
   "execution_count": 16,
   "id": "8e35980f",
   "metadata": {},
   "outputs": [
    {
     "name": "stdout",
     "output_type": "stream",
     "text": [
      "res = 8.98e-11\n",
      "u_vec = [11.  16.5 21.  23. ]\n",
      "iter_count = 54\n"
     ]
    }
   ],
   "source": [
    "u_vec = np.array([0,0,0,0.])\n",
    "u_vec_new = np.array([0,0,0,0.])\n",
    "residual_convergence = 1e-10\n",
    "omega = 1.6 #Relaxation factor\n",
    "residual = np.linalg.norm(np.dot(A, u_vec) - b) #Initial residual\n",
    "iter_count = 0\n",
    "\n",
    "while residual > residual_convergence:\n",
    "    iter_count+=1\n",
    "    for i in range(4): \n",
    "        sigma_i = 0\n",
    "        for j in range(4):\n",
    "            if j != i:\n",
    "                sigma_i += A[i][j] * u_vec[j]\n",
    "        u_vec[i] = (1 - omega) * u_vec[i] + (omega / A[i][i]) * (b[i] - sigma_i)\n",
    "    residual = np.linalg.norm(np.dot(A, u_vec) - b)\n",
    "\n",
    "print (\"res = {:5.2e}\".format(residual))\n",
    "print (\"u_vec = {}\".format(u_vec))\n",
    "print (\"iter_count = {}\".format(iter_count))\n",
    "\n"
   ]
  },
  {
   "cell_type": "code",
   "execution_count": 1,
   "id": "be46e9f7",
   "metadata": {},
   "outputs": [
    {
     "name": "stdout",
     "output_type": "stream",
     "text": [
      "a=[1 2 3]\n",
      "b=[1 2 3]\n",
      "a=[ 1 10  3]\n",
      "b=[ 1 10  3]\n",
      "==========\n"
     ]
    }
   ],
   "source": [
    "import numpy as np\n",
    "### Check 1\n",
    "a = np.array([1,2,3])\n",
    "b = np.array([10,20,30])\n",
    "b = a\n",
    "print (\"a={}\".format(a))\n",
    "print (\"b={}\".format(b))\n",
    "b[1] = 10\n",
    "print (\"a={}\".format(a))\n",
    "print (\"b={}\".format(b))\n",
    "print (\"==========\")\n",
    "#=====\n",
    "\n",
    "\n",
    "\n",
    "\n"
   ]
  },
  {
   "cell_type": "code",
   "execution_count": 2,
   "id": "cb9a09a6",
   "metadata": {},
   "outputs": [
    {
     "name": "stdout",
     "output_type": "stream",
     "text": [
      "a=[1 2 3]\n",
      "b=[1 2 3]\n",
      "a=[1 2 3]\n",
      "b=[ 1 10  3]\n",
      "==========\n"
     ]
    }
   ],
   "source": [
    "\n",
    "\n",
    "\n",
    "### Check 2\n",
    "a = np.array([1,2,3])\n",
    "b = np.array([10,20,30])\n",
    "b[:] = a[:]\n",
    "print (\"a={}\".format(a))\n",
    "print (\"b={}\".format(b))\n",
    "b[1] = 10\n",
    "print (\"a={}\".format(a))\n",
    "print (\"b={}\".format(b))\n",
    "print (\"==========\")\n",
    "\n",
    "\n",
    "\n",
    "\n"
   ]
  },
  {
   "cell_type": "code",
   "execution_count": 3,
   "id": "bafbb5d7",
   "metadata": {},
   "outputs": [
    {
     "name": "stdout",
     "output_type": "stream",
     "text": [
      "a=[1 2 3]\n",
      "b=[1 2 3]\n",
      "a=[1 2 3]\n",
      "b=[ 1 10  3]\n",
      "==========\n"
     ]
    }
   ],
   "source": [
    "### Check 3\n",
    "a = np.array([1,2,3])\n",
    "b = np.array([10,20,30])\n",
    "b=np.copy(a)\n",
    "print (\"a={}\".format(a))\n",
    "print (\"b={}\".format(b))\n",
    "b[1] = 10\n",
    "print (\"a={}\".format(a))\n",
    "print (\"b={}\".format(b))\n",
    "print (\"==========\")"
   ]
  },
  {
   "cell_type": "code",
   "execution_count": 5,
   "id": "d5cffa03",
   "metadata": {},
   "outputs": [
    {
     "name": "stdout",
     "output_type": "stream",
     "text": [
      "[[ 3. -2.  0.  0.]\n",
      " [-2.  3. -1.  0.]\n",
      " [ 0. -1.  2. -1.]\n",
      " [ 0.  0. -1.  1.]]\n"
     ]
    }
   ],
   "source": [
    "\n",
    "\n",
    "k_01 = 1. # N/m\n",
    "k_12 = 1. # N/m\n",
    "k_23 = 1. # N/m\n",
    "k_34 = 1. # N/m\n",
    "\n",
    "\n",
    "\n",
    "\n",
    "\n",
    "\n",
    "\n",
    "\n"
   ]
  },
  {
   "cell_type": "code",
   "execution_count": 10,
   "id": "a816e0e8",
   "metadata": {},
   "outputs": [
    {
     "name": "stdout",
     "output_type": "stream",
     "text": [
      "[[ 2. -1.  0.  0.]\n",
      " [-1.  2. -1.  0.]\n",
      " [ 0. -1.  2. -1.]\n",
      " [ 0.  0. -1.  1.]]\n",
      "b_vec =  [0.1 0.1 0.1 1.1]\n",
      "Solution = [1.4 2.7 3.9 5. ]\n"
     ]
    }
   ],
   "source": [
    "\n",
    "\n",
    "    \n",
    "#=== \n",
    "A = np.array([[k_01+k_12, -k_12, 0,  0.],\n",
    "              [-k_12, k_12+k_23, -k_23, 0],\n",
    "              [0, -k_23, k_23+k_34, -k_34],\n",
    "              [ 0.,  0., -k_34, k_34]])\n",
    "\n",
    "print (A)\n",
    "\n",
    "\n",
    "\n",
    "\n",
    "\n",
    "print (\"b_vec = \", b_vec)\n",
    "#solve y1, y2, y3, y4\n",
    "#Solve A y = b\n",
    "\n",
    "#\n",
    "\n",
    "\n",
    "\n",
    "\n",
    "Sol = np.linalg.solve(A,b_vec)\n",
    "print (\"Solution =\", Sol)\n",
    "\n"
   ]
  },
  {
   "cell_type": "code",
   "execution_count": null,
   "id": "619af7aa",
   "metadata": {},
   "outputs": [],
   "source": [
    "\n",
    "\n",
    "m1_g = 0.1 #N\n",
    "m2_g = 0.1 #N\n",
    "m3_g = 0.1 #N\n",
    "m4_g = 0.1 #N\n",
    "#===\n",
    "l_01 = 1. # m \n",
    "l_12 = 1. # m\n",
    "l_23 = 1. # m\n",
    "l_34 = 1. # m\n",
    "#===\n",
    "k_01 = 1. # N/m\n",
    "k_12 = 1. # N/m\n",
    "k_23 = 1. # N/m\n",
    "k_34 = 1. # N/m\n",
    "\n",
    "\n"
   ]
  },
  {
   "cell_type": "code",
   "execution_count": null,
   "id": "4ce091e8",
   "metadata": {},
   "outputs": [],
   "source": []
  },
  {
   "cell_type": "code",
   "execution_count": null,
   "id": "dac1c91e",
   "metadata": {},
   "outputs": [],
   "source": []
  },
  {
   "cell_type": "code",
   "execution_count": 18,
   "id": "e98b7d17",
   "metadata": {},
   "outputs": [
    {
     "name": "stdout",
     "output_type": "stream",
     "text": [
      "Solution = [14.         18.         21.         22.33333333]\n"
     ]
    }
   ],
   "source": [
    "\n",
    "#===\n",
    "#k_vec = [k_01,k_12,k_23,k_34]\n",
    "#mg_vec = [m1_g,m2_g,m3_g,m4_g]\n",
    "#l_vec = [l_01, l_12, l_23, l_34]\n",
    "\n",
    "\n",
    "k_vec = [1.0, 1.0, 1.0, 3.0] # N/m\n",
    "mg_vec = [10.0, 1.0, 1.0, 1.0 ] # external forces/gravity\n",
    "l_vec = [1.0, 1.0, 1.0, 1.0] # meters\n",
    "y = FindBallPosition(k_vec, mg_vec, l_vec)\n",
    "\n",
    "\n",
    "\n"
   ]
  },
  {
   "cell_type": "code",
   "execution_count": 20,
   "id": "7f3da251",
   "metadata": {},
   "outputs": [
    {
     "name": "stdout",
     "output_type": "stream",
     "text": [
      "Solution = [1.4 2.7 3.9 5. ]\n"
     ]
    },
    {
     "data": {
      "text/plain": [
       "[<matplotlib.lines.Line2D at 0x7fb544011670>]"
      ]
     },
     "execution_count": 20,
     "metadata": {},
     "output_type": "execute_result"
    },
    {
     "data": {
      "image/png": "[encoded data removed]",
      "text/plain": [
       "<Figure size 200x300 with 1 Axes>"
      ]
     },
     "metadata": {
      "needs_background": "light"
     },
     "output_type": "display_data"
    }
   ],
   "source": [
    "\n",
    "#=====\n",
    "import numpy as np\n",
    "import matplotlib.pyplot as plt\n",
    "\n",
    "def FindBallPosition(k_vec, mg_vec, l_vec):\n",
    "    [k_01,k_12,k_23,k_34] = k_vec\n",
    "    [m1_g,m2_g,m3_g,m4_g] = mg_vec \n",
    "    [l_01, l_12, l_23, l_34] = l_vec\n",
    "    #=== \n",
    "    A = np.array([[k_01+k_12, -k_12, 0,  0.],\n",
    "              [-k_12, k_12+k_23, -k_23, 0],\n",
    "              [0, -k_23, k_23+k_34, -k_34],\n",
    "              [ 0.,  0., -k_34, k_34]])\n",
    "    \n",
    "    #===b_vec\n",
    "    b1 = m1_g + k_01 * l_01 - k_12 * l_12\n",
    "    b2 = m2_g + k_12 * l_12 - k_23 * l_23\n",
    "    b3 = m3_g + k_23 * l_23 - k_34 * l_34\n",
    "    b4 = m4_g + k_34 * l_34\n",
    "    b_vec = np.array([b1, b2, b3, b4])\n",
    "    Sol = np.linalg.solve(A,b_vec)\n",
    "    print (\"Solution =\", Sol)\n",
    "    return Sol\n",
    "    \n",
    "    \n",
    "    \n",
    "k_vec = np.array([1.,1.,1.,1.,])  # N/m\n",
    "l_vec = np.array([1.,1.,1.,1.,]) # meters\n",
    "mg_vec = np.array([0.1,0.1,0.1,0.1]) # N\n",
    "\n",
    "\n",
    "fig = plt.figure( dpi = 100 )\n",
    "fig.set_size_inches(2,3)\n",
    "#=====\n",
    "ceiling_y = 0\n",
    "#y1,y2,y3,y4 = -y_vec\n",
    "\n",
    "#=====\n",
    "plt.hlines(0, -0.2, 0.2, colors='k',lw = 5)\n",
    "ball_y0 = np.array([1,2,3,4]) \n",
    "plt.plot(ball_x-0.1,-ball_y0,'k-s' )\n",
    "#ball_x = np.array([0,0,0,0])\n",
    "ball_y= FindBallPosition(k_vec, mg_vec, l_vec)\n",
    "plt.plot(ball_x, -ball_y, 'r-o')\n",
    "#\n",
    "#\n",
    "\n",
    "\n"
   ]
  },
  {
   "cell_type": "code",
   "execution_count": 27,
   "id": "c3b0dd88",
   "metadata": {},
   "outputs": [
    {
     "data": {
      "image/png": "[encoded data removed]",
      "text/plain": [
       "<Figure size 200x300 with 1 Axes>"
      ]
     },
     "metadata": {
      "needs_background": "light"
     },
     "output_type": "display_data"
    }
   ],
   "source": [
    "\n",
    "\n",
    "def FindBallPosition(k_vec, l_vec,mg_vec):\n",
    "    #==== Springs ===\n",
    "    k_01,k_12,k_23,k_34 = k_vec[0],k_vec[1],k_vec[2],k_vec[3] #N/m\n",
    "    #====\n",
    "    l_01,l_12,l_23,l_34 = l_vec[0],l_vec[1],l_vec[2],l_vec[3] #meters\n",
    "    #====External Force ===\n",
    "    m1_g,m2_g,m3_g,m4_g = mg_vec[0],mg_vec[1],mg_vec[2],mg_vec[3] #N\n",
    "    #====\n",
    "    A = np.array([[k_01+k_12, -k_12, 0,  0.],\n",
    "                  [-k_12, k_12+k_23, -k_23, 0],\n",
    "                  [0, -k_23, k_23+k_34, -k_34],\n",
    "                  [ 0.,  0., -k_34, k_34]])\n",
    "    #===b_vec\n",
    "    b1 = m1_g + k_01 * l_01 - k_12 * l_12\n",
    "    b2 = m2_g + k_12 * l_12 - k_23 * l_23\n",
    "    b3 = m3_g + k_23 * l_23 - k_34 * l_34\n",
    "    b4 = m4_g + k_34 * l_34\n",
    "    b_vec = np.array([b1, b2, b3, b4])\n",
    "    y_vec = np.linalg.solve(A,b_vec)\n",
    "    return [A,b_vec,y_vec]\n",
    "\n",
    "#=====\n",
    "import numpy as np\n",
    "import matplotlib.pyplot as plt\n",
    "\n",
    "k_vec = np.array([1.,1.,1.,1.,])  # N/m\n",
    "l_vec = np.array([1.,1.,1.,1.,]) # meters\n",
    "mg_vec = np.array([0.1 ,0.1,1.0,0.1]) # N\n",
    "\n",
    "\n",
    "\n",
    "\n",
    "[A,b_vec,y_vec] = FindBallPosition(k_vec, l_vec,mg_vec)\n",
    "\n",
    "fig = plt.figure( dpi = 100 )\n",
    "fig.set_size_inches(2,3)\n",
    "#=====\n",
    "ceiling_y = 0\n",
    "y1,y2,y3,y4 = -y_vec\n",
    "#=====\n",
    "ball_x = np.array([0,0,0,0,0])\n",
    "ball_y = np.array([ceiling_y,y1,y2,y3,y4])\n",
    "ball_y0 = np.array([0,-1,-2,-3,-4])\n",
    "#===\n",
    "plt.hlines(0, -0.2, 0.2, colors='k',lw = 5)\n",
    "plt.plot(ball_x - 0.1 , ball_y0,'-ko')\n",
    "plt.plot(ball_x + 0.1, ball_y,'-ro')\n",
    "plt.xlim(-0.5,0.5)\n",
    "plt.ylim(-10,1)\n",
    "#plt.axis('equal')\n",
    "plt.ylabel('y')\n",
    "plt.tight_layout()\n",
    "\n",
    "\n",
    "\n"
   ]
  },
  {
   "cell_type": "code",
   "execution_count": 8,
   "id": "f9819841",
   "metadata": {},
   "outputs": [
    {
     "name": "stdout",
     "output_type": "stream",
     "text": [
      "[array([1.4, 2.7, 3.9, 5. ])]\n"
     ]
    }
   ],
   "source": [
    "\n",
    "print (y_vec)"
   ]
  },
  {
   "cell_type": "code",
   "execution_count": null,
   "id": "bddbe2a8",
   "metadata": {},
   "outputs": [],
   "source": []
  }
 ],
 "metadata": {
  "kernelspec": {
   "display_name": "Python 3 (ipykernel)",
   "language": "python",
   "name": "python3"
  },
  "language_info": {
   "codemirror_mode": {
    "name": "ipython",
    "version": 3
   },
   "file_extension": ".py",
   "mimetype": "text/x-python",
   "name": "python",
   "nbconvert_exporter": "python",
   "pygments_lexer": "ipython3",
   "version": "3.9.12"
  }
 },
 "nbformat": 4,
 "nbformat_minor": 5
}
