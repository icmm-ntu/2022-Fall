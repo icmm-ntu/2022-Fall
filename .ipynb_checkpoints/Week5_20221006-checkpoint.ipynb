{
 "cells": [
  {
   "cell_type": "code",
   "execution_count": 6,
   "id": "21efebb8",
   "metadata": {},
   "outputs": [
    {
     "data": {
      "text/plain": [
       "(0, -1)"
      ]
     },
     "execution_count": 6,
     "metadata": {},
     "output_type": "execute_result"
    }
   ],
   "source": [
    "from random import choice\n",
    "list = [(1,0), (-1,0), (0,1), (0,-1)]\n",
    "choice(list)\n",
    "\n"
   ]
  },
  {
   "cell_type": "code",
   "execution_count": null,
   "id": "b8bbc8cc",
   "metadata": {},
   "outputs": [],
   "source": [
    "from random import choice\n",
    "import numpy as np\n",
    "import matplotlib.pyplot as plt\n",
    "\n",
    "\n",
    "\n",
    "n_part = 10 #00 # Number of particles to aggregate\n",
    "side= 101 # Should be an odd number\n",
    "steps = [(1,0),(-1,0),(0,1),(0,-1)]\n",
    "DLA_domain = np.zeros((side, side))\n",
    "DLA_domain[side//2][side//2] = 1 # place a seed at center \n",
    "for ipart in range(n_part):\n",
    "    # Start a random walker at origin\n",
    "    x,y = 0,0\n",
    "    # perform the random walk until particle aggregates\n",
    "    dla_swtich = True # True: continue dla process, False: stop\n",
    "    while dla_swtich: # while condition.\n",
    "        DLA_domain[x][y] = 0 #Remove particle from current spot\n",
    "        #=====Randomly move particle\n",
    "        sx,sy = choice(steps)\n",
    "        x += sx\n",
    "        y += sy\n",
    "        # Enforce periodic boundaries\n",
    "        if x < 0: x = side - 1 #left wall\n",
    "        if y < 0: y = side - 1 # bottom wall\n",
    "        if x == side: x = 0 # right wall\n",
    "        if y == side: y = 0 # top wall\n",
    "        DLA_domain[x][y] = 1 #Put particle in new location\n",
    "        # The walker stops when seeing a neighbor\n",
    "        if (DLA_domain[(x+1)%side][y]+DLA_domain[x][(y+1)%side]\n",
    "            + DLA_domain[(x+side-1)%side][y]+DLA_domain[x][(y+side-1)%side])>0:\n",
    "            dla_swtich = False #The walker stops when seeing a neighbor \n",
    "plt.imshow(DLA_domain)\n",
    "plt.savefig('Unit3.11_DLA.png')"
   ]
  }
 ],
 "metadata": {
  "kernelspec": {
   "display_name": "Python 3 (ipykernel)",
   "language": "python",
   "name": "python3"
  },
  "language_info": {
   "codemirror_mode": {
    "name": "ipython",
    "version": 3
   },
   "file_extension": ".py",
   "mimetype": "text/x-python",
   "name": "python",
   "nbconvert_exporter": "python",
   "pygments_lexer": "ipython3",
   "version": "3.9.12"
  }
 },
 "nbformat": 4,
 "nbformat_minor": 5
}
