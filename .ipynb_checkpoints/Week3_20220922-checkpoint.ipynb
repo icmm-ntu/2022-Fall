{
 "cells": [
  {
   "cell_type": "code",
   "execution_count": null,
   "id": "fe3f9d6b",
   "metadata": {},
   "outputs": [],
   "source": [
    "\n",
    "#r1 = 3\n",
    "\n",
    "#r2 = (a * r1 + c) % M\n",
    "#print (r2)\n",
    "\n",
    "\n",
    "#r3 =  (a * r2 + c) % M\n",
    "#print (r3)\n",
    "\n",
    "\n"
   ]
  },
  {
   "cell_type": "code",
   "execution_count": 11,
   "id": "d7274ffc",
   "metadata": {},
   "outputs": [
    {
     "name": "stdout",
     "output_type": "stream",
     "text": [
      "iter = 0, random number = 4\n",
      "iter = 1, random number = 8\n",
      "iter = 2, random number = 6\n",
      "iter = 3, random number = 7\n",
      "iter = 4, random number = 2\n"
     ]
    }
   ],
   "source": [
    "def LCG(a,c,M,r):\n",
    "    r_next = (a * r + c) % M\n",
    "    return r_next\n",
    "\n",
    "a = 4\n",
    "c = 1\n",
    "M = 9 \n",
    "r = 3\n",
    "\n",
    "#=====\n",
    "for iter in range(5):\n",
    "    #print (iter)\n",
    "    r =  LCG(a,c,M,r)\n",
    "    print (\"iter = %d, random number = %d\"%(iter,r))\n"
   ]
  },
  {
   "cell_type": "code",
   "execution_count": null,
   "id": "773eff66",
   "metadata": {},
   "outputs": [],
   "source": []
  }
 ],
 "metadata": {
  "kernelspec": {
   "display_name": "Python 3 (ipykernel)",
   "language": "python",
   "name": "python3"
  },
  "language_info": {
   "codemirror_mode": {
    "name": "ipython",
    "version": 3
   },
   "file_extension": ".py",
   "mimetype": "text/x-python",
   "name": "python",
   "nbconvert_exporter": "python",
   "pygments_lexer": "ipython3",
   "version": "3.9.12"
  }
 },
 "nbformat": 4,
 "nbformat_minor": 5
}
