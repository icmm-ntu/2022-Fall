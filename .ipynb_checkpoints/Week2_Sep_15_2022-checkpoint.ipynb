{
 "cells": [
  {
   "cell_type": "code",
   "execution_count": 8,
   "id": "852c6055",
   "metadata": {},
   "outputs": [
    {
     "name": "stdout",
     "output_type": "stream",
     "text": [
      "What is your name? ChihhungChen\n",
      "Hello, ChihhungChen.\n",
      "Hello, World.\n",
      "Good night, World.\n"
     ]
    }
   ],
   "source": [
    "name = input(\"What is your name? \")# Read data from user\n",
    "print (\"Hello, %s.\" % name)\n",
    "#=====\n",
    "name = 'World'#define data here \n",
    "print (\"Hello, %s.\" % name)\n",
    "#use number sign for single-line comment\n",
    "\"\"\"\n",
    "multi-line comments\n",
    "\"\"\"\n",
    "print (\"Good night, %s.\" % name)"
   ]
  },
  {
   "cell_type": "code",
   "execution_count": 17,
   "id": "25dcaed1",
   "metadata": {},
   "outputs": [
    {
     "name": "stdout",
     "output_type": "stream",
     "text": [
      "2022-09-15 14:43:13.563506\n",
      "Current date and time:\n",
      "Current year: 2022\n",
      "Current month: 9\n",
      "Current day: 15\n",
      "Current hour: 14\n",
      "Current minute: 43\n",
      "Current second: 13\n",
      "Current date and time using strftime:\n",
      "2022-09-15 14:43:13\n",
      "okay\n"
     ]
    }
   ],
   "source": [
    "import datetime as dt # import datetime module, call it \"dt\"\n",
    "now = dt.datetime.now() #submodule\n",
    "print (now)\n",
    "print (\"Current date and time:\")\n",
    "print (\"Current year: %d\" % now.year)\n",
    "print (\"Current month: %d\" % now.month)\n",
    "print (\"Current day: %d\" % now.day)\n",
    "print (\"Current hour: %d\" % now.hour)\n",
    "print (\"Current minute: %d\" % now.minute)\n",
    "print (\"Current second: %d\" % now.second)\n",
    "print (\"Current date and time using strftime:\")\n",
    "print (now.strftime(\"%Y-%m-%d %H:%M:%S\")) #define string format, Year-Month-Date Hour-Minute-Second\n",
    "print (\"okay\")\n",
    "\n"
   ]
  },
  {
   "cell_type": "code",
   "execution_count": 24,
   "id": "e214b83c",
   "metadata": {},
   "outputs": [
    {
     "name": "stdout",
     "output_type": "stream",
     "text": [
      "<class 'str'>\n",
      "1010\n",
      "<class 'float'>\n",
      "20.0\n"
     ]
    }
   ],
   "source": [
    "a = \"10\"\n",
    "print (type(a))\n",
    "\n",
    "print (a + a)\n",
    "\n",
    "#====\n",
    "a = float(a) # converting string to float\n",
    "print(type(a)) #str(a), int(a),...\n",
    "print (a + a)\n",
    "\n"
   ]
  },
  {
   "cell_type": "code",
   "execution_count": null,
   "id": "ed37cb52",
   "metadata": {},
   "outputs": [],
   "source": []
  },
  {
   "cell_type": "code",
   "execution_count": 9,
   "id": "f49442a5",
   "metadata": {},
   "outputs": [
    {
     "name": "stdout",
     "output_type": "stream",
     "text": [
      "a + b =  5\n",
      "a + b = 5\n"
     ]
    }
   ],
   "source": [
    "\n",
    "a = 2\n",
    "b = 3\n",
    "c = a + b \n",
    "print (\"a + b = \", c)\n",
    "print (\"a + b = %d\"%(c))\n",
    "\n",
    "#=====\n",
    "d = a * b\n",
    "print (\"a * b = \", d)\n",
    "print (\"a * b = %d\"%(d))\n",
    "\n",
    "#=====\n",
    "e = a / b # 2/3=0.6666\n",
    "print (\"a / b =\", e)\n"
   ]
  },
  {
   "cell_type": "code",
   "execution_count": 11,
   "id": "e8b44e24",
   "metadata": {},
   "outputs": [
    {
     "name": "stdout",
     "output_type": "stream",
     "text": [
      "a * b =  6\n",
      "a * b = 6\n"
     ]
    }
   ],
   "source": []
  },
  {
   "cell_type": "code",
   "execution_count": 12,
   "id": "ced8014f",
   "metadata": {},
   "outputs": [
    {
     "name": "stdout",
     "output_type": "stream",
     "text": [
      "a / b = 0.6666666666666666\n"
     ]
    }
   ],
   "source": [
    "\n",
    "\n",
    "\n"
   ]
  },
  {
   "cell_type": "code",
   "execution_count": null,
   "id": "6bc05ced",
   "metadata": {},
   "outputs": [],
   "source": []
  }
 ],
 "metadata": {
  "kernelspec": {
   "display_name": "Python 3 (ipykernel)",
   "language": "python",
   "name": "python3"
  },
  "language_info": {
   "codemirror_mode": {
    "name": "ipython",
    "version": 3
   },
   "file_extension": ".py",
   "mimetype": "text/x-python",
   "name": "python",
   "nbconvert_exporter": "python",
   "pygments_lexer": "ipython3",
   "version": "3.9.12"
  }
 },
 "nbformat": 4,
 "nbformat_minor": 5
}
