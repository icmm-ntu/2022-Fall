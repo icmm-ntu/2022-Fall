{
 "cells": [
  {
   "cell_type": "code",
   "execution_count": 8,
   "id": "c95ba72e",
   "metadata": {},
   "outputs": [
    {
     "name": "stdout",
     "output_type": "stream",
     "text": [
      "(a)\n",
      "x1 =    1.100 m\n",
      "x2 =    2.200 m\n",
      "x3 =    3.300 m\n",
      "x4 =    4.400 m\n",
      "---\n",
      "F1 =    0.100 N\n",
      "F2 =    0.100 N\n",
      "F3 =    0.100 N\n",
      "F4 =    0.100 N\n",
      "\n",
      "\n",
      "(b)\n",
      "x1 =    1.114 m\n",
      "x2 =    2.171 m\n",
      "x3 =    3.286 m\n",
      "x4 =    4.400 m\n",
      "---\n",
      "F1 =    0.114 N\n",
      "F2 =    0.114 N\n",
      "F3 =    0.114 N\n",
      "F4 =    0.114 N\n",
      "\n",
      "\n",
      "(c)\n",
      "x1 =    0.829 m\n",
      "x2 =    1.743 m\n",
      "x3 =    3.571 m\n",
      "x4 =    4.400 m\n",
      "---\n",
      "F1 =   -0.171 N\n",
      "F2 =   -0.171 N\n",
      "F3 =   -0.171 N\n",
      "F4 =   -0.171 N\n"
     ]
    }
   ],
   "source": [
    "import numpy as np\n",
    "#===\n",
    "def Compute_X(k_vec,l_vec,x4):\n",
    "    k1,k2,k3,k4 = k_vec\n",
    "    L1_0,L2_0,L3_0,L4_0 = l_vec\n",
    "\n",
    "    A = np.array([[ k1+k2, -k2, 0.],\n",
    "                  [-k2, k2+k3, -k3],\n",
    "                  [0., -k3, k3+k4 ]])\n",
    "    b1 = k1 * L1_0  - k2 * L2_0\n",
    "    b2 = k2 * L2_0  - k3 * L3_0\n",
    "    b3 = k3 * L3_0  - k4 * L4_0 + k4 * x4\n",
    "\n",
    "    b = np.array([b1, b2, b3])\n",
    "    x_arr = np.linalg.solve(A,b)\n",
    "    x1,x2,x3 = x_arr\n",
    "    print (\"x1 = %8.3f m\"%x1)\n",
    "    print (\"x2 = %8.3f m\"%x2)\n",
    "    print (\"x3 = %8.3f m\"%x3)\n",
    "    print (\"x4 = %8.3f m\"%x4)\n",
    "    return x_arr\n",
    "#===\n",
    "def CheckForce(k_vec,l_vec,x_arr,x4):\n",
    "    k1,k2,k3,k4 = k_vec\n",
    "    L1_0,L2_0,L3_0,L4_0 = l_vec\n",
    "    x1,x2,x3 = x_arr\n",
    "    F1 = k1 * (x1 - L1_0)\n",
    "    F2 = k2 * (x2 - x1 - L2_0)\n",
    "    F3 = k3 * (x3 - x2 - L3_0)\n",
    "    F4 = k4 * (x4 - x3 - L4_0)\n",
    "    print (\"F1 = %8.3f N\"%F1)\n",
    "    print (\"F2 = %8.3f N\"%F2)\n",
    "    print (\"F3 = %8.3f N\"%F3)\n",
    "    print (\"F4 = %8.3f N\"%F4)\n",
    "\n",
    "\n",
    "#(a)\n",
    "print (\"(a)\")\n",
    "k_vec = [1.0,1.0,1.0,1.0]  # N/m\n",
    "l_vec = [1.0,1.0,1.0,1.0] # m\n",
    "x4 = 4.4 #m\n",
    "x_arr = Compute_X(k_vec,l_vec,x4)\n",
    "print (\"---\")\n",
    "CheckForce(k_vec,l_vec,x_arr,x4)\n",
    "print (\"\\n\")\n",
    "\n",
    "#===\n",
    "#(b)\n",
    "print (\"(b)\")\n",
    "k_vec = [1.0,2.0,1.0,1.0]  # N/m\n",
    "l_vec = [1.0,1.0,1.0,1.0] # m\n",
    "x4 = 4.4 #m\n",
    "x_arr = Compute_X(k_vec,l_vec,x4)\n",
    "print (\"---\")\n",
    "CheckForce(k_vec,l_vec,x_arr,x4)\n",
    "print (\"\\n\")\n",
    "\n",
    "#===\n",
    "#(c)\n",
    "print (\"(c)\")\n",
    "k_vec = [1.0,2.0,1.0,1.0]  # N/m\n",
    "l_vec = [1.0,1.0,2.0,1.0] # m\n",
    "x4 = 4.4 #m\n",
    "x_arr = Compute_X(k_vec,l_vec,x4)\n",
    "print (\"---\")\n",
    "CheckForce(k_vec,l_vec,x_arr,x4)"
   ]
  },
  {
   "cell_type": "code",
   "execution_count": 9,
   "id": "c6f5414a",
   "metadata": {},
   "outputs": [
    {
     "name": "stdout",
     "output_type": "stream",
     "text": [
      "A= [[ 3. -2.  0.  0.]\n",
      " [-2.  3. -1.  0.]\n",
      " [ 0. -1.  2. -1.]\n",
      " [ 0.  0. -1.  1.]]\n",
      "b_vec= [-0.9  1.1  0.1  1.1]\n",
      "y_vec= [1.4  2.55 3.75 4.85]\n"
     ]
    }
   ],
   "source": [
    "\n",
    "\n",
    "\n",
    "def FindBallPosition(k_vec, l_vec,mg_vec):\n",
    "    #==== Springs ===\n",
    "    k_01,k_12,k_23,k_34 = k_vec[0],k_vec[1],k_vec[2],k_vec[3] #N/m\n",
    "    #====\n",
    "    l_01,l_12,l_23,l_34 = l_vec[0],l_vec[1],l_vec[2],l_vec[3] #meters\n",
    "    #====External Force ===\n",
    "    m1_g,m2_g,m3_g,m4_g = mg_vec[0],mg_vec[1],mg_vec[2],mg_vec[3] #N\n",
    "    #====\n",
    "    A = np.array([[k_01+k_12, -k_12, 0,  0.],\n",
    "                  [-k_12, k_12+k_23, -k_23, 0],\n",
    "                  [0, -k_23, k_23+k_34, -k_34],\n",
    "                  [ 0.,  0., -k_34, k_34]])\n",
    "    #===b_vec\n",
    "    b1 = m1_g + k_01 * l_01 - k_12 * l_12\n",
    "    b2 = m2_g + k_12 * l_12 - k_23 * l_23\n",
    "    b3 = m3_g + k_23 * l_23 - k_34 * l_34\n",
    "    b4 = m4_g + k_34 * l_34\n",
    "    b_vec = np.array([b1, b2, b3, b4])\n",
    "    y_vec = np.linalg.solve(A,b_vec)\n",
    "    return [A,b_vec,y_vec]\n",
    "\n",
    "#Case I:\n",
    "k_vec = np.array([1.,2.,1.,1.,]) \n",
    "l_vec = np.array([1.,1.,1.,1.,])\n",
    "mg_vec = np.array([0.1,0.1,0.1,0.1])\n",
    "#Case II:\n",
    "#k_vec = np.array([1.,2.,2.,4.,]) \n",
    "#l_vec = np.array([1.,1.,1.,1.,])\n",
    "#mg_vec = np.array([1.,2.,3.,4.])\n",
    "\n",
    "[A,b_vec,y_vec] = FindBallPosition(k_vec, l_vec,mg_vec)\n",
    "print(\"A=\",A)\n",
    "print(\"b_vec=\",b_vec)\n",
    "print(\"y_vec=\",y_vec)\n",
    "\n",
    "\n",
    "\n"
   ]
  },
  {
   "cell_type": "code",
   "execution_count": 11,
   "id": "3ab70554",
   "metadata": {},
   "outputs": [
    {
     "data": {
      "image/png": "[encoded data removed]",
      "text/plain": [
       "<Figure size 200x300 with 1 Axes>"
      ]
     },
     "metadata": {
      "needs_background": "light"
     },
     "output_type": "display_data"
    }
   ],
   "source": [
    "import numpy as np\n",
    "import matplotlib.pyplot as plt\n",
    "\n",
    "\n",
    "k_vec = np.array([1.,2.,1.,1.,])  # N/m\n",
    "l_vec = np.array([1.,1.,1.,1.,]) # meters\n",
    "mg_vec = np.array([0.1,0.1,0.1,0.1]) # N\n",
    "[A,b_vec,y_vec] = FindBallPosition(k_vec, l_vec,mg_vec)\n",
    "\n",
    "fig = plt.figure( dpi = 100 )\n",
    "fig.set_size_inches(2,3)\n",
    "#=====\n",
    "ceiling_y = 0\n",
    "y1,y2,y3,y4 = -y_vec\n",
    "#=====\n",
    "ball_x = np.array([0,0,0,0,0])\n",
    "ball_y = np.array([ceiling_y,y1,y2,y3,y4])\n",
    "ball_y0 = np.array([0,-1,-2,-3,-4])\n",
    "#===\n",
    "plt.hlines(0, -0.2, 0.2, colors='k',lw = 5)\n",
    "plt.plot(ball_x - 0.1 , ball_y0,'-ko')\n",
    "plt.plot(ball_x + 0.1, ball_y,'-ro')\n",
    "plt.xlim(-0.5,0.5)\n",
    "plt.ylim(-10,1)\n",
    "#plt.axis('equal')\n",
    "plt.ylabel('y')\n",
    "plt.tight_layout()\n",
    "plt.savefig(\"Unit4.8_Mass_Spring_Position.png\")"
   ]
  },
  {
   "cell_type": "code",
   "execution_count": 28,
   "id": "1503c583",
   "metadata": {},
   "outputs": [
    {
     "name": "stdout",
     "output_type": "stream",
     "text": [
      "[0.4  0.15 0.2  0.1 ]\n"
     ]
    },
    {
     "data": {
      "image/png": "[encoded data removed]",
      "text/plain": [
       "<Figure size 500x300 with 1 Axes>"
      ]
     },
     "metadata": {
      "needs_background": "light"
     },
     "output_type": "display_data"
    }
   ],
   "source": [
    "ball_y[0:5]\n",
    "ball_y[1:5]\n",
    "ball_y[0:4]\n",
    "L = abs(ball_y[1:5] - ball_y[0:4])\n",
    "L0 = np.array([1,1,1,1])\n",
    "#===\n",
    "strain_yy = (L - L0)/L0\n",
    "print (strain_yy)\n",
    "\n",
    "fig = plt.figure( dpi = 100 )\n",
    "fig.set_size_inches(5,3)\n",
    "\n",
    "#plt.plot(strain_yy, '-ro')\n",
    "\n",
    "Spring_ID = [0,1,2,3]\n",
    "plt.plot(Spring_ID,strain_yy,'-ro')\n",
    "plt.xticks(Spring_ID, (r'$spring_{01}$', r'$spring_{12}$', r'$spring_{23}$', r'$spring_{34}$'))\n",
    "\n",
    "plt.ylabel(r'$\\epsilon_{yy}$', fontsize = 16)\n",
    "\n",
    "plt.ylim(0,0.5)\n",
    "ax = plt.gca() \n",
    "ax.tick_params( 'both', labelsize = 16 , length = 5)\n",
    "ax.tick_params(width = 1, length = 5)\n",
    "plt.tight_layout()\n",
    "plt.savefig(\"Unit_4.9_Mass_Spring_Strain.png\")\n",
    "\n"
   ]
  },
  {
   "cell_type": "code",
   "execution_count": null,
   "id": "3d60ce17",
   "metadata": {},
   "outputs": [],
   "source": [
    "\n",
    "\n",
    "\n",
    "#\n",
    "#\n",
    "#)\n",
    "#\n",
    "#\n"
   ]
  },
  {
   "cell_type": "code",
   "execution_count": null,
   "id": "179e5927",
   "metadata": {},
   "outputs": [],
   "source": [
    "#strain \n",
    "\n",
    "\n",
    "\n",
    "\n",
    "\n",
    "#\n",
    "\n",
    "\n",
    "\n"
   ]
  }
 ],
 "metadata": {
  "kernelspec": {
   "display_name": "Python 3 (ipykernel)",
   "language": "python",
   "name": "python3"
  },
  "language_info": {
   "codemirror_mode": {
    "name": "ipython",
    "version": 3
   },
   "file_extension": ".py",
   "mimetype": "text/x-python",
   "name": "python",
   "nbconvert_exporter": "python",
   "pygments_lexer": "ipython3",
   "version": "3.9.12"
  }
 },
 "nbformat": 4,
 "nbformat_minor": 5
}
