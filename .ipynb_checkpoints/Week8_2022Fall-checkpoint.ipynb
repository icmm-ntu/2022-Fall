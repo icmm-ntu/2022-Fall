{
 "cells": [
  {
   "cell_type": "code",
   "execution_count": 8,
   "id": "6ecd8833",
   "metadata": {},
   "outputs": [
    {
     "name": "stdout",
     "output_type": "stream",
     "text": [
      "(a)\n",
      "x1 =    1.100 m\n",
      "x2 =    2.200 m\n",
      "x3 =    3.300 m\n",
      "x4 =    4.400 m\n",
      "---\n",
      "F1 =    0.100 N\n",
      "F2 =    0.100 N\n",
      "F3 =    0.100 N\n",
      "F4 =    0.100 N\n",
      "\n",
      "\n",
      "(b)\n",
      "x1 =    1.114 m\n",
      "x2 =    2.171 m\n",
      "x3 =    3.286 m\n",
      "x4 =    4.400 m\n",
      "---\n",
      "F1 =    0.114 N\n",
      "F2 =    0.114 N\n",
      "F3 =    0.114 N\n",
      "F4 =    0.114 N\n",
      "\n",
      "\n",
      "(c)\n",
      "x1 =    0.829 m\n",
      "x2 =    1.743 m\n",
      "x3 =    3.571 m\n",
      "x4 =    4.400 m\n",
      "---\n",
      "F1 =   -0.171 N\n",
      "F2 =   -0.171 N\n",
      "F3 =   -0.171 N\n",
      "F4 =   -0.171 N\n"
     ]
    }
   ],
   "source": [
    "import numpy as np\n",
    "#===\n",
    "def Compute_X(k_vec,l_vec,x4):\n",
    "    k1,k2,k3,k4 = k_vec\n",
    "    L1_0,L2_0,L3_0,L4_0 = l_vec\n",
    "\n",
    "    A = np.array([[ k1+k2, -k2, 0.],\n",
    "                  [-k2, k2+k3, -k3],\n",
    "                  [0., -k3, k3+k4 ]])\n",
    "    b1 = k1 * L1_0  - k2 * L2_0\n",
    "    b2 = k2 * L2_0  - k3 * L3_0\n",
    "    b3 = k3 * L3_0  - k4 * L4_0 + k4 * x4\n",
    "\n",
    "    b = np.array([b1, b2, b3])\n",
    "    x_arr = np.linalg.solve(A,b)\n",
    "    x1,x2,x3 = x_arr\n",
    "    print (\"x1 = %8.3f m\"%x1)\n",
    "    print (\"x2 = %8.3f m\"%x2)\n",
    "    print (\"x3 = %8.3f m\"%x3)\n",
    "    print (\"x4 = %8.3f m\"%x4)\n",
    "    return x_arr\n",
    "#===\n",
    "def CheckForce(k_vec,l_vec,x_arr,x4):\n",
    "    k1,k2,k3,k4 = k_vec\n",
    "    L1_0,L2_0,L3_0,L4_0 = l_vec\n",
    "    x1,x2,x3 = x_arr\n",
    "    F1 = k1 * (x1 - L1_0)\n",
    "    F2 = k2 * (x2 - x1 - L2_0)\n",
    "    F3 = k3 * (x3 - x2 - L3_0)\n",
    "    F4 = k4 * (x4 - x3 - L4_0)\n",
    "    print (\"F1 = %8.3f N\"%F1)\n",
    "    print (\"F2 = %8.3f N\"%F2)\n",
    "    print (\"F3 = %8.3f N\"%F3)\n",
    "    print (\"F4 = %8.3f N\"%F4)\n",
    "\n",
    "\n",
    "#(a)\n",
    "print (\"(a)\")\n",
    "k_vec = [1.0,1.0,1.0,1.0]  # N/m\n",
    "l_vec = [1.0,1.0,1.0,1.0] # m\n",
    "x4 = 4.4 #m\n",
    "x_arr = Compute_X(k_vec,l_vec,x4)\n",
    "print (\"---\")\n",
    "CheckForce(k_vec,l_vec,x_arr,x4)\n",
    "print (\"\\n\")\n",
    "\n",
    "#===\n",
    "#(b)\n",
    "print (\"(b)\")\n",
    "k_vec = [1.0,2.0,1.0,1.0]  # N/m\n",
    "l_vec = [1.0,1.0,1.0,1.0] # m\n",
    "x4 = 4.4 #m\n",
    "x_arr = Compute_X(k_vec,l_vec,x4)\n",
    "print (\"---\")\n",
    "CheckForce(k_vec,l_vec,x_arr,x4)\n",
    "print (\"\\n\")\n",
    "\n",
    "#===\n",
    "#(c)\n",
    "print (\"(c)\")\n",
    "k_vec = [1.0,2.0,1.0,1.0]  # N/m\n",
    "l_vec = [1.0,1.0,2.0,1.0] # m\n",
    "x4 = 4.4 #m\n",
    "x_arr = Compute_X(k_vec,l_vec,x4)\n",
    "print (\"---\")\n",
    "CheckForce(k_vec,l_vec,x_arr,x4)"
   ]
  },
  {
   "cell_type": "code",
   "execution_count": 9,
   "id": "3f324e38",
   "metadata": {},
   "outputs": [
    {
     "name": "stdout",
     "output_type": "stream",
     "text": [
      "A= [[ 3. -2.  0.  0.]\n",
      " [-2.  3. -1.  0.]\n",
      " [ 0. -1.  2. -1.]\n",
      " [ 0.  0. -1.  1.]]\n",
      "b_vec= [-0.9  1.1  0.1  1.1]\n",
      "y_vec= [1.4  2.55 3.75 4.85]\n"
     ]
    }
   ],
   "source": [
    "\n",
    "\n",
    "\n",
    "def FindBallPosition(k_vec, l_vec,mg_vec):\n",
    "    #==== Springs ===\n",
    "    k_01,k_12,k_23,k_34 = k_vec[0],k_vec[1],k_vec[2],k_vec[3] #N/m\n",
    "    #====\n",
    "    l_01,l_12,l_23,l_34 = l_vec[0],l_vec[1],l_vec[2],l_vec[3] #meters\n",
    "    #====External Force ===\n",
    "    m1_g,m2_g,m3_g,m4_g = mg_vec[0],mg_vec[1],mg_vec[2],mg_vec[3] #N\n",
    "    #====\n",
    "    A = np.array([[k_01+k_12, -k_12, 0,  0.],\n",
    "                  [-k_12, k_12+k_23, -k_23, 0],\n",
    "                  [0, -k_23, k_23+k_34, -k_34],\n",
    "                  [ 0.,  0., -k_34, k_34]])\n",
    "    #===b_vec\n",
    "    b1 = m1_g + k_01 * l_01 - k_12 * l_12\n",
    "    b2 = m2_g + k_12 * l_12 - k_23 * l_23\n",
    "    b3 = m3_g + k_23 * l_23 - k_34 * l_34\n",
    "    b4 = m4_g + k_34 * l_34\n",
    "    b_vec = np.array([b1, b2, b3, b4])\n",
    "    y_vec = np.linalg.solve(A,b_vec)\n",
    "    return [A,b_vec,y_vec]\n",
    "\n",
    "#Case I:\n",
    "k_vec = np.array([1.,2.,1.,1.,]) \n",
    "l_vec = np.array([1.,1.,1.,1.,])\n",
    "mg_vec = np.array([0.1,0.1,0.1,0.1])\n",
    "#Case II:\n",
    "#k_vec = np.array([1.,2.,2.,4.,]) \n",
    "#l_vec = np.array([1.,1.,1.,1.,])\n",
    "#mg_vec = np.array([1.,2.,3.,4.])\n",
    "\n",
    "[A,b_vec,y_vec] = FindBallPosition(k_vec, l_vec,mg_vec)\n",
    "print(\"A=\",A)\n",
    "print(\"b_vec=\",b_vec)\n",
    "print(\"y_vec=\",y_vec)\n",
    "\n",
    "\n",
    "\n"
   ]
  },
  {
   "cell_type": "code",
   "execution_count": 11,
   "id": "5e9f1c02",
   "metadata": {},
   "outputs": [
    {
     "data": {
      "image/png": "[encoded data removed]",
      "text/plain": [
       "<Figure size 200x300 with 1 Axes>"
      ]
     },
     "metadata": {
      "needs_background": "light"
     },
     "output_type": "display_data"
    }
   ],
   "source": [
    "import numpy as np\n",
    "import matplotlib.pyplot as plt\n",
    "\n",
    "\n",
    "k_vec = np.array([1.,2.,1.,1.,])  # N/m\n",
    "l_vec = np.array([1.,1.,1.,1.,]) # meters\n",
    "mg_vec = np.array([0.1,0.1,0.1,0.1]) # N\n",
    "[A,b_vec,y_vec] = FindBallPosition(k_vec, l_vec,mg_vec)\n",
    "\n",
    "fig = plt.figure( dpi = 100 )\n",
    "fig.set_size_inches(2,3)\n",
    "#=====\n",
    "ceiling_y = 0\n",
    "y1,y2,y3,y4 = -y_vec\n",
    "#=====\n",
    "ball_x = np.array([0,0,0,0,0])\n",
    "ball_y = np.array([ceiling_y,y1,y2,y3,y4])\n",
    "ball_y0 = np.array([0,-1,-2,-3,-4])\n",
    "#===\n",
    "plt.hlines(0, -0.2, 0.2, colors='k',lw = 5)\n",
    "plt.plot(ball_x - 0.1 , ball_y0,'-ko')\n",
    "plt.plot(ball_x + 0.1, ball_y,'-ro')\n",
    "plt.xlim(-0.5,0.5)\n",
    "plt.ylim(-10,1)\n",
    "#plt.axis('equal')\n",
    "plt.ylabel('y')\n",
    "plt.tight_layout()\n",
    "plt.savefig(\"Unit4.8_Mass_Spring_Position.png\")"
   ]
  },
  {
   "cell_type": "code",
   "execution_count": 28,
   "id": "4cef0a45",
   "metadata": {
    "scrolled": true
   },
   "outputs": [
    {
     "name": "stdout",
     "output_type": "stream",
     "text": [
      "[0.4  0.15 0.2  0.1 ]\n"
     ]
    },
    {
     "data": {
      "image/png": "[encoded data removed]",
      "text/plain": [
       "<Figure size 500x300 with 1 Axes>"
      ]
     },
     "metadata": {
      "needs_background": "light"
     },
     "output_type": "display_data"
    }
   ],
   "source": [
    "ball_y[0:5]\n",
    "ball_y[1:5]\n",
    "ball_y[0:4]\n",
    "L = abs(ball_y[1:5] - ball_y[0:4])\n",
    "L0 = np.array([1,1,1,1])\n",
    "#===\n",
    "strain_yy = (L - L0)/L0\n",
    "print (strain_yy)\n",
    "\n",
    "fig = plt.figure( dpi = 100 )\n",
    "fig.set_size_inches(5,3)\n",
    "\n",
    "#plt.plot(strain_yy, '-ro')\n",
    "\n",
    "Spring_ID = [0,1,2,3]\n",
    "plt.plot(Spring_ID,strain_yy,'-ro')\n",
    "plt.xticks(Spring_ID, (r'$spring_{01}$', r'$spring_{12}$', r'$spring_{23}$', r'$spring_{34}$'))\n",
    "\n",
    "plt.ylabel(r'$\\epsilon_{yy}$', fontsize = 16)\n",
    "\n",
    "plt.ylim(0,0.5)\n",
    "ax = plt.gca() \n",
    "ax.tick_params( 'both', labelsize = 16 , length = 5)\n",
    "ax.tick_params(width = 1, length = 5)\n",
    "plt.tight_layout()\n",
    "plt.savefig(\"Unit_4.9_Mass_Spring_Strain.png\")\n",
    "\n"
   ]
  },
  {
   "cell_type": "code",
   "execution_count": 31,
   "id": "2e4dbc04",
   "metadata": {},
   "outputs": [
    {
     "data": {
      "image/png": "[encoded data removed]",
      "text/plain": [
       "<Figure size 600x400 with 2 Axes>"
      ]
     },
     "metadata": {
      "needs_background": "light"
     },
     "output_type": "display_data"
    }
   ],
   "source": [
    "#=====\n",
    "fig = plt.figure( dpi = 100 )\n",
    "fig.set_size_inches(6,4)\n",
    "force_yy = k_vec * strain_yy\n",
    "\n",
    "#=====\n",
    "ax1 = plt.subplot(211)\n",
    "ax2 = plt.subplot(212)\n",
    "\n",
    "#=====\n",
    "ax1.plot(Spring_ID,strain_yy,'ro')\n",
    "ax1.set_ylabel(r'$\\epsilon_{yy}$')\n",
    "ax1.set_ylim(0,0.5)\n",
    "\n",
    "#=====\n",
    "ax2.plot(Spring_ID,force_yy,'b^')\n",
    "ax2.set_ylabel(r'$f_{yy}$')\n",
    "plt.xticks(Spring_ID, (r'$spring_{01}$', r'$spring_{12}$', r'$spring_{23}$', r'$spring_{34}$'))\n",
    "ax2.set_ylim(0,1)\n",
    "\n",
    "#=====\n",
    "ax1.get_shared_x_axes().join(ax1, ax2)\n",
    "ax1.set_xticklabels([])\n",
    "plt.savefig('Uint1.10_Strain_stress_profile.png')\n",
    "\n"
   ]
  },
  {
   "cell_type": "code",
   "execution_count": 33,
   "id": "cbfc4f53",
   "metadata": {},
   "outputs": [
    {
     "ename": "ModuleNotFoundError",
     "evalue": "No module named 'vpython'",
     "output_type": "error",
     "traceback": [
      "\u001b[0;31m---------------------------------------------------------------------------\u001b[0m",
      "\u001b[0;31mModuleNotFoundError\u001b[0m                       Traceback (most recent call last)",
      "Input \u001b[0;32mIn [33]\u001b[0m, in \u001b[0;36m<cell line: 1>\u001b[0;34m()\u001b[0m\n\u001b[0;32m----> 1\u001b[0m \u001b[38;5;28;01mfrom\u001b[39;00m \u001b[38;5;21;01mvpython\u001b[39;00m \u001b[38;5;28;01mimport\u001b[39;00m\u001b[38;5;241m*\u001b[39m\n\u001b[1;32m      3\u001b[0m scene\u001b[38;5;241m=\u001b[39mcanvas(width\u001b[38;5;241m=\u001b[39m\u001b[38;5;241m300\u001b[39m,height\u001b[38;5;241m=\u001b[39m\u001b[38;5;241m500\u001b[39m,center\u001b[38;5;241m=\u001b[39mvec(\u001b[38;5;241m0\u001b[39m,\u001b[38;5;241m-\u001b[39m\u001b[38;5;241m5\u001b[39m,\u001b[38;5;241m0\u001b[39m),background\u001b[38;5;241m=\u001b[39mvec(\u001b[38;5;241m0.5\u001b[39m,\u001b[38;5;241m0.5\u001b[39m,\u001b[38;5;241m0\u001b[39m)) \u001b[38;5;66;03m#background color RGB.\u001b[39;00m\n\u001b[1;32m      5\u001b[0m ceiling_y \u001b[38;5;241m=\u001b[39m \u001b[38;5;241m0\u001b[39m\n",
      "\u001b[0;31mModuleNotFoundError\u001b[0m: No module named 'vpython'"
     ]
    }
   ],
   "source": [
    "from vpython import*\n",
    "\n",
    "scene=canvas(width=300,height=500,center=vec(0,-5,0),background=vec(0.5,0.5,0)) #background color RGB.\n",
    "\n",
    "ceiling_y = 0\n",
    "y1 = -1\n",
    "y2 = -2\n",
    "y3 = -3\n",
    "y4 = -4\n",
    "\n",
    "L_01 = abs(y1-ceiling_y)\n",
    "L_12 = abs(y2-y1)\n",
    "L_23 = abs(y3-y2)\n",
    "L_34 = abs(y4-y3)\n",
    "\n",
    "spring_01 = helix(pos=vector(0,ceiling_y,0), axis = vector(0,-1,0), length = L_01, radius = 0.1, thickness = 0.05, color = color.black)\n",
    "spring_12 = helix(pos=vector(0,y1,0), axis = vector(0,-1,0), length = L_12, radius = 0.1, thickness = 0.05, color = color.black)\n",
    "spring_23 = helix(pos=vector(0,y2,0), axis = vector(0,-1,0), length = L_23, radius = 0.1, thickness = 0.05, color = color.black)\n",
    "spring_34 = helix(pos=vector(0,y3,0), axis = vector(0,-1,0), length = L_34, radius = 0.1, thickness = 0.05, color = color.black)\n",
    "\n",
    "ceiling = box(pos=vec(0,ceiling_y,0), size = vec(1, 0.1, 1))\n",
    "ball_1 = sphere(pos=vec(0,y1,0), radius=0.3, v=vec(0,0,0), color=color.blue)\n",
    "ball_2 = sphere(pos=vec(0,y2,0), radius=0.3, v=vec(0,0,0), color=color.red)\n",
    "ball_3 = sphere(pos=vec(0,y3,0), radius=0.3, v=vec(0,0,0), color=color.green)\n",
    "ball_4 = sphere(pos=vec(0,y4,0), radius=0.3, v=vec(0,0,0), color=color.orange)\n",
    "\n"
   ]
  },
  {
   "cell_type": "code",
   "execution_count": 35,
   "id": "df4aeb4a",
   "metadata": {},
   "outputs": [
    {
     "data": {
      "image/png": "[encoded data removed]",
      "text/plain": [
       "<Figure size 500x300 with 1 Axes>"
      ]
     },
     "metadata": {
      "needs_background": "light"
     },
     "output_type": "display_data"
    }
   ],
   "source": [
    "import numpy as np\n",
    "import matplotlib.pyplot as plt\n",
    "\n",
    "\n",
    "x_arr = np.linspace(0,10,1001)\n",
    "x_0 = 0.1\n",
    "\n",
    "\n",
    "\n",
    "fig = plt.figure(dpi = 100)\n",
    "fig.set_size_inches(5,3)\n",
    "plt.plot(x_arr, np.sin(x_arr),'-k')\n",
    "plt.plot(x_0, np.sin(x_0),'ro')\n",
    "plt.ylim(-1.5,1.5)\n",
    "plt.xlabel(r\"$x$\", fontsize = 16)\n",
    "plt.ylabel(r\"$\\sin(x)$\", fontsize = 16)\n",
    "#ax = plt.gca() \n",
    "#ax.tick_params('both', labelsize = 20 , length = 5)\n",
    "#ax.tick_params(width = 1, length = 5)\n",
    "plt.tight_layout()\n",
    "plt.savefig(\"Unit4.12a_dsinx_dx.png\")"
   ]
  },
  {
   "cell_type": "code",
   "execution_count": 36,
   "id": "68feca75",
   "metadata": {},
   "outputs": [
    {
     "name": "stdout",
     "output_type": "stream",
     "text": [
      "dsin/dx at x= 0.1 is 0.9950041652780258\n"
     ]
    }
   ],
   "source": [
    "f_prime = np.cos(x_0)\n",
    "print (\"dsin/dx at x= 0.1 is\", f_prime)\n"
   ]
  },
  {
   "cell_type": "code",
   "execution_count": 39,
   "id": "964d9a6e",
   "metadata": {},
   "outputs": [
    {
     "name": "stdout",
     "output_type": "stream",
     "text": [
      "0.9949991719489237\n"
     ]
    }
   ],
   "source": [
    "#f_prime_FD = (f(x+h) - f(x))/h\n",
    "\n",
    "\n",
    "\n",
    "\n",
    "\n",
    "\n"
   ]
  },
  {
   "cell_type": "code",
   "execution_count": 45,
   "id": "15b9cda8",
   "metadata": {},
   "outputs": [
    {
     "name": "stdout",
     "output_type": "stream",
     "text": [
      "[0.98835914 0.99448842 0.99495408 0.99499917 0.99500367 0.99500412\n",
      " 0.99500416 0.99500417 0.99500416 0.99500408 0.99500408 0.99500963\n",
      " 0.99503739]\n"
     ]
    },
    {
     "data": {
      "image/png": "[encoded data removed]",
      "text/plain": [
       "<Figure size 500x300 with 1 Axes>"
      ]
     },
     "metadata": {
      "needs_background": "light"
     },
     "output_type": "display_data"
    }
   ],
   "source": [
    "#--- FD method\n",
    "def FD_Diff(h,x_0):\n",
    "    f_a = np.sin(x_0)\n",
    "    f_b = np.sin(x_0 + h)\n",
    "    ans = 1./h * (f_b - f_a)\n",
    "    return ans\n",
    "\n",
    "\n",
    "\n",
    "#---\n",
    "n_arr = np.array([1,2,3,4,5,6,7,8,9,10,11,12,13])\n",
    "h_arr = 10.** np.array(-n_arr) #...\n",
    "f_prime_FD = FD_Diff(h_arr,0.1)\n",
    "print (f_prime_FD)\n",
    "\n",
    "\n",
    "\n",
    "\n",
    "\n",
    "fig = plt.figure(dpi = 100)\n",
    "\n",
    "fig.set_size_inches(5,3)\n",
    "\n",
    "plt.plot(h_arr, f_prime_FD, '-or')\n",
    "plt.axhline(y=f_prime, color='k', linestyle='-')\n",
    "\n",
    "\n",
    "plt.xscale('log')\n",
    "\n",
    "\n",
    "#plt.yscale('log')\n",
    "plt.xlabel(r\"$h$\", fontsize = 16)\n",
    "plt.ylabel(r\"$f'_{FD}$\", fontsize = 16)\n",
    "\n",
    "\n",
    "plt.ylim(0.98,1)\n",
    "plt.savefig(\"Unit4.12b_dsinx_dx_FD.png\")\n",
    "\n",
    "\n"
   ]
  },
  {
   "cell_type": "code",
   "execution_count": 49,
   "id": "a3307ae6",
   "metadata": {},
   "outputs": [
    {
     "data": {
      "image/png": "[encoded data removed]",
      "text/plain": [
       "<Figure size 500x300 with 1 Axes>"
      ]
     },
     "metadata": {
      "needs_background": "light"
     },
     "output_type": "display_data"
    }
   ],
   "source": [
    "\n",
    "\n",
    "Delta = abs(f_prime_FD - f_prime)\n",
    "\n",
    "\n",
    "#print (Delta)\n",
    "fig = plt.figure(dpi = 100)\n",
    "fig.set_size_inches(5,3)\n",
    "\n",
    "plt.plot(h_arr, Delta, '-or')\n",
    "\n",
    "plt.xscale('log')\n",
    "plt.yscale('log')\n",
    "\n",
    "\n"
   ]
  },
  {
   "cell_type": "code",
   "execution_count": null,
   "id": "a1b0a719",
   "metadata": {},
   "outputs": [],
   "source": []
  }
 ],
 "metadata": {
  "kernelspec": {
   "display_name": "Python 3 (ipykernel)",
   "language": "python",
   "name": "python3"
  },
  "language_info": {
   "codemirror_mode": {
    "name": "ipython",
    "version": 3
   },
   "file_extension": ".py",
   "mimetype": "text/x-python",
   "name": "python",
   "nbconvert_exporter": "python",
   "pygments_lexer": "ipython3",
   "version": "3.9.12"
  }
 },
 "nbformat": 4,
 "nbformat_minor": 5
}
