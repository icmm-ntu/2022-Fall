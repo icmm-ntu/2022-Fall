{
 "cells": [
  {
   "cell_type": "markdown",
   "id": "773dfc11",
   "metadata": {},
   "source": [
    "# Unit 4.18c: Jacobi method for 2d Poisson's problem\n",
    "\n",
    "---\n",
    "\n",
    "###  Jacobi Method\n",
    "\n",
    "$$\\frac{d^{2}u}{dx^{2}}+\\frac{d^{2}u}{dy^{2}}=-f$$\n",
    "\n",
    "\n",
    "$$\\frac{u_{i+1,j}+u_{i-1,j}+u_{i,j+1}+u_{i,j-1}-4u_{i,j}}{h^{2}}=-f_{i,j}$$\n",
    "\n",
    "\n",
    "$$\\Rightarrow u_{i,j}=\\frac{1}{4}\\left(u_{i+1,j}+u_{i-1,j}+u_{i,j+1}+u_{i,j-1}+h^{2}f_{i,j}\\right)$$\n",
    "\n",
    "\n",
    "Iteration \n",
    "$$\\Rightarrow u_{i,j}^{n+1}=\\frac{1}{4}\\left(u_{i+1,j}^{n}+u_{i-1,j}^{n}+u_{i,j+1}^{n}+u_{i,j-1}^{n}+h^{2}f_{i,j}\\right)$$\n",
    "\n",
    "\n",
    "The error at grid point $\\left(i,j\\right)$ is \n",
    "\n",
    "$$\\Delta=\\big|\\frac{u_{i+1,j}+u_{i-1,j}+u_{i,j+1}+u_{i,j-1}-4u_{i,j}}{h^{2}}+f_{i,j}\\big|$$\n",
    "\n",
    "\n",
    "---\n",
    "\n",
    "```python\n",
    "# Jacobi's Method\n",
    "import numpy as np\n",
    "import matplotlib.pyplot as plt\n",
    "from matplotlib import cm\n",
    "nx = 50 # total 50 intervals\n",
    "ny = 50 # total 50 intervals\n",
    "L = 2. # meters\n",
    "h = L/(nx)\n",
    "#x = np.arange(nx+1) * h - 1.\n",
    "#y = np.arange(ny+1) * h - 1.\n",
    "#X, Y = np.meshgrid(x,y)\n",
    "x = np.linspace(-1,1,nx+1)\n",
    "y = np.linspace(-1,1,ny+1)\n",
    "X, Y = np.meshgrid(x,y)\n",
    "\n",
    "#===\n",
    "def AssignSource_f(nx,ny,h):\n",
    "    f_arr = np.zeros([nx+1, ny+1])\n",
    "    for i in range(nx+1): \n",
    "        for j in range(ny+1):\n",
    "            pos_x = \n",
    "            pos_y = \n",
    "            if (....):\n",
    "                f_arr[i,j] = 1.\n",
    "    return f_arr\n",
    "\n",
    "    \n",
    "#===\n",
    "u_old = np.ones([nx+1, ny+1])\n",
    "u_new = np.zeros([nx+1 , ny+1])\n",
    "f_arr = AssignSource_f(nx,ny,h)\n",
    "Iter_Max = 5000\n",
    "for iter in range(Iter_Max):\n",
    "    res = 0.\n",
    "    for i in range(1,nx): # except boundary\n",
    "        for j in range(1,ny): # except boundary \n",
    "            f_val = \n",
    "            delta = \n",
    "            u_new[i,j] = \n",
    "            res = max(res,abs(delta))            \n",
    "    u_old[:] = u_new[:]\n",
    "    if iter%1000 == 0:\n",
    "        print (\"iter = {}, res = {:5.2e}\".format(iter, res))      \n",
    "\n",
    "  \n",
    "```\n",
    "\n",
    "\n",
    "\n",
    "\n",
    "\n"
   ]
  },
  {
   "cell_type": "code",
   "execution_count": 8,
   "id": "b34e5ca4",
   "metadata": {},
   "outputs": [
    {
     "name": "stdout",
     "output_type": "stream",
     "text": [
      "[[0. 0. 0. ... 0. 0. 0.]\n",
      " [0. 0. 0. ... 0. 0. 0.]\n",
      " [0. 0. 0. ... 0. 0. 0.]\n",
      " ...\n",
      " [0. 0. 0. ... 0. 0. 0.]\n",
      " [0. 0. 0. ... 0. 0. 0.]\n",
      " [0. 0. 0. ... 0. 0. 0.]]\n"
     ]
    },
    {
     "data": {
      "image/png": "[encoded data removed]",
      "text/plain": [
       "<Figure size 600x400 with 1 Axes>"
      ]
     },
     "metadata": {
      "needs_background": "light"
     },
     "output_type": "display_data"
    }
   ],
   "source": [
    "\n",
    "import numpy as np\n",
    "import matplotlib.pyplot as plt\n",
    "from matplotlib import cm\n",
    "nx = 50 # total 50 intervals\n",
    "ny = 50 # total 50 intervals\n",
    "L = 2. # meters\n",
    "h = L/(nx)\n",
    "x = np.linspace(-1,1,nx+1)\n",
    "y = np.linspace(-1,1,ny+1)\n",
    "X, Y = np.meshgrid(x,y)\n",
    "\n",
    "#===\n",
    "def AssignSource_f(nx,ny,h):\n",
    "    f_arr = np.zeros([nx+1, ny+1])\n",
    "    for i in range(nx+1): \n",
    "        for j in range(ny+1):\n",
    "            pos_x = i * h - 1\n",
    "            pos_y = j * h - 1\n",
    "            \n",
    "            cond_1 = pos_x >= -0.5\n",
    "            cond_2 = pos_x <= 0.5\n",
    "            cond_3 = pos_y >= -0.5\n",
    "            cond_4 = pos_y <= 0.5\n",
    "            if (cond_1 == True and cond_2 == True and cond_3 == True and cond_4 == True):\n",
    "                f_arr[i,j] = 1.\n",
    "    return f_arr\n",
    "\n",
    "\n",
    "\n",
    "\n",
    "f_arr = AssignSource_f(nx,ny,h)\n",
    "print (f_arr)\n",
    "\n",
    "\n",
    "#===Plotting(2d)===\n",
    "fig = plt.figure( dpi = 100 ) # dots per inch\n",
    "fig.set_size_inches(6,4)\n",
    "clb = plt.contourf(X,Y, f_arr, 100, cmap = 'jet')\n",
    "\n"
   ]
  },
  {
   "cell_type": "code",
   "execution_count": 9,
   "id": "9cbd30a3",
   "metadata": {},
   "outputs": [
    {
     "ename": "SyntaxError",
     "evalue": "invalid syntax (215707716.py, line 10)",
     "output_type": "error",
     "traceback": [
      "\u001b[0;36m  Input \u001b[0;32mIn [9]\u001b[0;36m\u001b[0m\n\u001b[0;31m    f_val =\u001b[0m\n\u001b[0m            ^\u001b[0m\n\u001b[0;31mSyntaxError\u001b[0m\u001b[0;31m:\u001b[0m invalid syntax\n"
     ]
    }
   ],
   "source": [
    "#===\n",
    "u_old = np.ones([nx+1, ny+1])\n",
    "u_new = np.zeros([nx+1 , ny+1])\n",
    "f_arr = AssignSource_f(nx,ny,h)\n",
    "Iter_Max = 100\n",
    "#===\n",
    "\n",
    "for iter in range(Iter_Max):\n",
    "    res = 0.\n",
    "    for i in range(1,nx): # except boundary\n",
    "        for j in range(1,ny): # except boundary \n",
    "            f_val = \n",
    "            delta = \n",
    "            u_new[i,j] = \n",
    "            res = max(res,abs(delta))            \n",
    "    u_old[:] = u_new[:]\n",
    "    if iter%1000 == 0:\n",
    "        print (\"iter = {}, res = {:5.2e}\".format(iter, res))      \n",
    "\n",
    "        \n",
    "        \n",
    "        "
   ]
  },
  {
   "cell_type": "code",
   "execution_count": null,
   "id": "d9b645e2",
   "metadata": {},
   "outputs": [],
   "source": []
  }
 ],
 "metadata": {
  "kernelspec": {
   "display_name": "Python 3 (ipykernel)",
   "language": "python",
   "name": "python3"
  },
  "language_info": {
   "codemirror_mode": {
    "name": "ipython",
    "version": 3
   },
   "file_extension": ".py",
   "mimetype": "text/x-python",
   "name": "python",
   "nbconvert_exporter": "python",
   "pygments_lexer": "ipython3",
   "version": "3.9.12"
  }
 },
 "nbformat": 4,
 "nbformat_minor": 5
}
