{
 "cells": [
  {
   "cell_type": "markdown",
   "id": "dcb7b79c",
   "metadata": {},
   "source": [
    "# Unit 4.18c: Jacobi method for 2d Poisson's problem\n",
    "\n",
    "---\n",
    "\n",
    "###  Jacobi Method\n",
    "\n",
    "$$\\frac{d^{2}u}{dx^{2}}+\\frac{d^{2}u}{dy^{2}}=-f$$\n",
    "\n",
    "\n",
    "$$\\frac{u_{i+1,j}+u_{i-1,j}+u_{i,j+1}+u_{i,j-1}-4u_{i,j}}{h^{2}}=-f_{i,j}$$\n",
    "\n",
    "\n",
    "$$\\Rightarrow u_{i,j}=\\frac{1}{4}\\left(u_{i+1,j}+u_{i-1,j}+u_{i,j+1}+u_{i,j-1}+h^{2}f_{i,j}\\right)$$\n",
    "\n",
    "\n",
    "Iteration \n",
    "$$\\Rightarrow u_{i,j}^{n+1}=\\frac{1}{4}\\left(u_{i+1,j}^{n}+u_{i-1,j}^{n}+u_{i,j+1}^{n}+u_{i,j-1}^{n}+h^{2}f_{i,j}\\right)$$\n",
    "\n",
    "\n",
    "The error at grid point $\\left(i,j\\right)$ is \n",
    "\n",
    "$$\\Delta=\\big|\\frac{u_{i+1,j}+u_{i-1,j}+u_{i,j+1}+u_{i,j-1}-4u_{i,j}}{h^{2}}+f_{i,j}\\big|$$\n",
    "\n",
    "\n",
    "---\n",
    "\n",
    "```python\n",
    "# Jacobi's Method\n",
    "import numpy as np\n",
    "import matplotlib.pyplot as plt\n",
    "from matplotlib import cm\n",
    "nx = 50 # total 50 intervals\n",
    "ny = 50 # total 50 intervals\n",
    "L = 2. # meters\n",
    "h = L/(nx)\n",
    "#x = np.arange(nx+1) * h - 1.\n",
    "#y = np.arange(ny+1) * h - 1.\n",
    "#X, Y = np.meshgrid(x,y)\n",
    "x = np.linspace(-1,1,nx+1)\n",
    "y = np.linspace(-1,1,ny+1)\n",
    "X, Y = np.meshgrid(x,y)\n",
    "\n",
    "#===\n",
    "def AssignSource_f(nx,ny,h):\n",
    "    f_arr = np.zeros([nx+1, ny+1])\n",
    "    for i in range(nx+1): \n",
    "        for j in range(ny+1):\n",
    "            pos_x = \n",
    "            pos_y = \n",
    "            if (....):\n",
    "                f_arr[i,j] = 1.\n",
    "    return f_arr\n",
    "\n",
    "    \n",
    "#===\n",
    "u_old = np.ones([nx+1, ny+1])\n",
    "u_new = np.zeros([nx+1 , ny+1])\n",
    "f_arr = AssignSource_f(nx,ny,h)\n",
    "Iter_Max = 5000\n",
    "for iter in range(Iter_Max):\n",
    "    res = 0.\n",
    "    for i in range(1,nx): # except boundary\n",
    "        for j in range(1,ny): # except boundary \n",
    "            f_val = \n",
    "            delta = \n",
    "            u_new[i,j] = \n",
    "            res = max(res,abs(delta))            \n",
    "    u_old[:] = u_new[:]\n",
    "    if iter%1000 == 0:\n",
    "        print (\"iter = {}, res = {:5.2e}\".format(iter, res))      \n",
    "\n",
    "  \n",
    "```\n",
    "\n",
    "\n",
    "\n",
    "\n",
    "\n"
   ]
  },
  {
   "cell_type": "code",
   "execution_count": 21,
   "id": "d57c1df7",
   "metadata": {},
   "outputs": [
    {
     "name": "stdout",
     "output_type": "stream",
     "text": [
      "iter = 0, res = 1.00e+00\n",
      "iter = 1000, res = 1.13e-01\n",
      "iter = 2000, res = 1.56e-02\n",
      "iter = 3000, res = 2.17e-03\n",
      "iter = 4000, res = 3.01e-04\n"
     ]
    }
   ],
   "source": [
    "\n",
    "import numpy as np\n",
    "import matplotlib.pyplot as plt\n",
    "from matplotlib import cm\n",
    "nx = 50 # total 50 intervals\n",
    "ny = 50 # total 50 intervals\n",
    "L = 2. # meters\n",
    "h = L/(nx)\n",
    "x = np.linspace(-1,1,nx+1)\n",
    "y = np.linspace(-1,1,ny+1)\n",
    "X, Y = np.meshgrid(x,y)\n",
    "\n",
    "#===\n",
    "def AssignSource_f(nx,ny,h):\n",
    "    f_arr = np.zeros([nx+1, ny+1])\n",
    "    for i in range(nx+1): \n",
    "        for j in range(ny+1):\n",
    "            pos_x = i * h - 1\n",
    "            pos_y = j * h - 1\n",
    "            \n",
    "            cond_1 = pos_x >= -0.5\n",
    "            cond_2 = pos_x <= 0.5\n",
    "            cond_3 = pos_y >= -0.5\n",
    "            cond_4 = pos_y <= 0.5\n",
    "            if (cond_1 == True and cond_2 == True and cond_3 == True and cond_4 == True):\n",
    "                f_arr[i,j] = 1.\n",
    "    return f_arr\n",
    "\n",
    "#===\n",
    "u_old = np.zeros([nx+1, ny+1])\n",
    "u_new = np.zeros([nx+1 , ny+1])\n",
    "f_arr = AssignSource_f(nx,ny,h)\n",
    "Iter_Max = 5000\n",
    "#===\n",
    "\n",
    "for iter in range(Iter_Max):\n",
    "    res = 0.\n",
    "    for i in range(1,nx): # except boundary\n",
    "        for j in range(1,ny): # except boundary \n",
    "            f_val = f_arr[i,j]\n",
    "            \n",
    "            u_right = u_old[i+1,j]\n",
    "            u_left = u_old[i-1,j]\n",
    "            u_top = u_old[i,j+1]\n",
    "            u_bottom = u_old[i,j-1]\n",
    "            u_val = u_old[i,j]\n",
    "            temp = (u_right + u_left + u_top + u_bottom - 4. * u_val)/h**2. + f_val\n",
    "            delta = abs(temp)\n",
    "            u_new[i,j] = (u_right + u_left + u_top + u_bottom + h**2 * f_val)/4.0\n",
    "            res = max(res,abs(delta))            \n",
    "    u_old[:] = u_new[:]\n",
    "    if iter%1000 == 0:\n",
    "        print (\"iter = {}, res = {:5.2e}\".format(iter, res))      \n",
    "\n",
    "      \n",
    "        "
   ]
  },
  {
   "cell_type": "code",
   "execution_count": 22,
   "id": "fdca66b0",
   "metadata": {},
   "outputs": [
    {
     "data": {
      "image/png": "[encoded data removed]",
      "text/plain": [
       "<Figure size 600x400 with 2 Axes>"
      ]
     },
     "metadata": {
      "needs_background": "light"
     },
     "output_type": "display_data"
    }
   ],
   "source": [
    "#===Plotting(2d)===\n",
    "fig = plt.figure( dpi = 100 ) # dots per inch\n",
    "fig.set_size_inches(6,4)\n",
    "clb = plt.contourf(X,Y, u_new, 10, cmap = 'jet')\n",
    "\n",
    "\n",
    "\n",
    "#plt.colorbar()\n",
    "plt.colorbar()\n",
    "plt.clim(0,0.2)\n",
    "plt.ylabel('y')\n",
    "plt.xlabel('x')\n",
    "plt.axis('equal')\n",
    "plt.axis('off')\n",
    "plt.tight_layout()\n",
    "        \n",
    "    \n",
    "    "
   ]
  },
  {
   "cell_type": "code",
   "execution_count": 26,
   "id": "1f10ea77",
   "metadata": {},
   "outputs": [
    {
     "name": "stdout",
     "output_type": "stream",
     "text": [
      "iter = 0, res = 2.00e+00\n",
      "iter = 1000, res = 3.12e-02\n",
      "iter = 2000, res = 6.00e-04\n",
      "iter = 3000, res = 1.15e-05\n",
      "iter = 4000, res = 2.22e-07\n",
      "okay\n"
     ]
    }
   ],
   "source": [
    "\n",
    "#Gauss–Seidel Method\n",
    "import numpy as np\n",
    "import matplotlib.pyplot as plt\n",
    "\n",
    "nx = 50 # total 50 intervals\n",
    "ny = 50 # total 50 intervals\n",
    "L = 2. # meters\n",
    "h = L/(nx)\n",
    "x = np.linspace(-1,1,nx+1)\n",
    "y = np.linspace(-1,1,ny+1)\n",
    "X, Y = np.meshgrid(x,y)\n",
    "RED = 0 # even gridpoints\n",
    "BLACK = 1 # odd gridpoints\n",
    "\n",
    "\n",
    "#===\n",
    "def AssignSource_f(nx,ny,h):\n",
    "    f_arr = np.zeros([nx+1, ny+1])\n",
    "    for i in range(nx+1): \n",
    "        for j in range(ny+1):\n",
    "            pos_x = i * h - 1. # x position\n",
    "            pos_y = j * h - 1. # y position\n",
    "            if ((pos_x - 0.5)*(pos_x + 0.5)<=0) and ((pos_y - 0.5)*(pos_y + 0.5)<=0):\n",
    "                f_arr[i,j] = 1.\n",
    "    return f_arr\n",
    "\n",
    "\n",
    "\n",
    "\n",
    "#===\n",
    "u_arr = np.zeros([nx+1,ny+1])\n",
    "f_arr = AssignSource_f(nx,ny,h)\n",
    "Iter_Max = 5000\n",
    "for iter in range(Iter_Max):\n",
    "    res = 0.\n",
    "    for i in range(1,nx):\n",
    "        for j in range(1,ny):\n",
    "            if ((i+j)%2 == BLACK):\n",
    "                f_val = f_arr[i,j]\n",
    "                u_right = u_arr[i+1,j]\n",
    "                u_left = u_arr[i-1,j]\n",
    "                u_top = u_arr[i,j+1]\n",
    "                u_bottom = u_arr[i,j-1]\n",
    "                u_val = u_arr[i,j]\n",
    "                temp = (u_right + u_left + u_top + u_bottom - 4. * u_val)/h**2. + f_val\n",
    "                delta = abs(temp)\n",
    "                u_arr[i,j] = (u_right + u_left + u_top + u_bottom + h**2 * f_val)/4.0\n",
    "                res = max(res,abs(delta))            \n",
    "    #=====    \n",
    "    for i in range(1,nx):\n",
    "        for j in range(1,ny):\n",
    "            if ((i+j)%2 == RED):\n",
    "                f_val = f_arr[i,j]\n",
    "                u_right = u_arr[i+1,j]\n",
    "                u_left = u_arr[i-1,j]\n",
    "                u_top = u_arr[i,j+1]\n",
    "                u_bottom = u_arr[i,j-1]\n",
    "                u_val = u_arr[i,j]\n",
    "                temp = (u_right + u_left + u_top + u_bottom - 4. * u_val)/h**2. + f_val\n",
    "                delta = abs(temp)\n",
    "                u_arr[i,j] = (u_right + u_left + u_top + u_bottom + h**2 * f_val)/4.0\n",
    "                res = max(res,abs(delta))     \n",
    "    if iter%1000 == 0:\n",
    "        print (\"iter = {}, res = {:5.2e}\".format(iter, res)) \n",
    "\n",
    "print (\"okay\")\n",
    "\n",
    "\n"
   ]
  },
  {
   "cell_type": "code",
   "execution_count": 28,
   "id": "63d696a1",
   "metadata": {},
   "outputs": [
    {
     "name": "stdout",
     "output_type": "stream",
     "text": [
      "iter = 0, res = 2.50e+00\n",
      "iter = 1000, res = 2.13e-05\n",
      "iter = 2000, res = 1.38e-10\n",
      "iter = 3000, res = 2.37e-13\n",
      "iter = 4000, res = 3.06e-13\n",
      "okay\n"
     ]
    }
   ],
   "source": [
    "\n",
    "\n",
    "\n",
    "\n",
    "#SOR Method\n",
    "import numpy as np\n",
    "import matplotlib.pyplot as plt\n",
    "\n",
    "nx = 50 # total 50 intervals\n",
    "ny = 50 # total 50 intervals\n",
    "L = 2. # meters\n",
    "h = L/(nx)\n",
    "x = np.linspace(-1,1,nx+1)\n",
    "y = np.linspace(-1,1,ny+1)\n",
    "X, Y = np.meshgrid(x,y)\n",
    "RED = 0 # even gridpoints\n",
    "BLACK = 1 # odd gridpoints\n",
    "\n",
    "omega = 1.5\n",
    "\n",
    "#===\n",
    "def AssignSource_f(nx,ny,h):\n",
    "    f_arr = np.zeros([nx+1, ny+1])\n",
    "    for i in range(nx+1): \n",
    "        for j in range(ny+1):\n",
    "            pos_x = i * h - 1. # x position\n",
    "            pos_y = j * h - 1. # y position\n",
    "            if ((pos_x - 0.5)*(pos_x + 0.5)<=0) and ((pos_y - 0.5)*(pos_y + 0.5)<=0):\n",
    "                f_arr[i,j] = 1.\n",
    "    return f_arr\n",
    "\n",
    "\n",
    "\n",
    "\n",
    "#===\n",
    "u_arr = np.zeros([nx+1,ny+1])\n",
    "f_arr = AssignSource_f(nx,ny,h)\n",
    "Iter_Max = 5000\n",
    "for iter in range(Iter_Max):\n",
    "    res = 0.\n",
    "    for i in range(1,nx):\n",
    "        for j in range(1,ny):\n",
    "            if ((i+j)%2 == BLACK):\n",
    "                f_val = f_arr[i,j]\n",
    "                u_right = u_arr[i+1,j]\n",
    "                u_left = u_arr[i-1,j]\n",
    "                u_top = u_arr[i,j+1]\n",
    "                u_bottom = u_arr[i,j-1]\n",
    "                u_val = u_arr[i,j]\n",
    "                temp = (u_right + u_left + u_top + u_bottom - 4. * u_val)/h**2. + f_val\n",
    "                delta = abs(temp)\n",
    "                u_GS = (u_right + u_left + u_top + u_bottom + h**2 * f_val)/4.0\n",
    "                u_arr[i,j] = (1. - omega ) * u_arr[i,j] + omega * u_GS\n",
    "                res = max(res,abs(delta))            \n",
    "    #=====    \n",
    "    for i in range(1,nx):\n",
    "        for j in range(1,ny):\n",
    "            if ((i+j)%2 == RED):\n",
    "                f_val = f_arr[i,j]\n",
    "                u_right = u_arr[i+1,j]\n",
    "                u_left = u_arr[i-1,j]\n",
    "                u_top = u_arr[i,j+1]\n",
    "                u_bottom = u_arr[i,j-1]\n",
    "                u_val = u_arr[i,j]\n",
    "                temp = (u_right + u_left + u_top + u_bottom - 4. * u_val)/h**2. + f_val\n",
    "                delta = abs(temp)\n",
    "                u_GS = (u_right + u_left + u_top + u_bottom + h**2 * f_val)/4.0\n",
    "                u_arr[i,j] = (1. - omega ) * u_arr[i,j] + omega * u_GS\n",
    "                res = max(res,abs(delta))     \n",
    "    if iter%1000 == 0:\n",
    "        print (\"iter = {}, res = {:5.2e}\".format(iter, res)) \n",
    "\n",
    "print (\"okay\")\n",
    "\n",
    "\n",
    "\n",
    "\n",
    "\n",
    "\n",
    "\n"
   ]
  },
  {
   "cell_type": "code",
   "execution_count": 32,
   "id": "29eb5e57",
   "metadata": {},
   "outputs": [
    {
     "data": {
      "image/png": "[encoded data removed]",
      "text/plain": [
       "<Figure size 420x280 with 1 Axes>"
      ]
     },
     "metadata": {
      "needs_background": "light"
     },
     "output_type": "display_data"
    }
   ],
   "source": [
    "\n",
    "\n",
    "\n",
    "\n",
    "\n",
    "import numpy as np\n",
    "import matplotlib.pyplot as plt\n",
    "m = 1.0 # kg\n",
    "g = 9.8 #m/s^2\n",
    "v_0 = 0. #m/s\n",
    "beta = 1.0 #1/s\n",
    "Nt = 100 # number of discrete time intervals\n",
    "t_arr = np.linspace(0,10,Nt+1)\n",
    "v_arr = m *g/beta + (v_0 - m*g/beta) *np.exp(-beta * t_arr/m)\n",
    "\n",
    "\n",
    "fig = plt.figure( dpi = 70 ) # dots per inch\n",
    "fig.set_size_inches(6,4)\n",
    "plt.plot(t_arr, v_arr,'-k',label = 'Analytic Solution')\n",
    "plt.xlabel(r'$t\\;(\\rm sec)$',fontsize = 20)\n",
    "plt.ylabel(r'$v\\;(\\rm m/s)$', fontsize = 20)\n",
    "plt.tight_layout()\n",
    "\n",
    "\n"
   ]
  },
  {
   "cell_type": "markdown",
   "id": "0a7abe31",
   "metadata": {},
   "source": [
    "\n",
    "\n",
    "\n",
    "\n",
    "\n"
   ]
  },
  {
   "cell_type": "code",
   "execution_count": null,
   "id": "0cd778b5",
   "metadata": {},
   "outputs": [],
   "source": []
  },
  {
   "cell_type": "markdown",
   "id": "29efdea3",
   "metadata": {},
   "source": [
    "# Unit 5.1b: Drag equation -- Euler method (numerical solution)\n",
    "\n",
    "$$\\frac{dv}{dt}=f\\left(v,t\\right) \\Rightarrow \\ \\frac{v\\left(t_n+h\\right)-v\\left(t_n\\right)}{h}=f\\left(v_n,t_n\\right)$$\n",
    "\n",
    "$$v_{n+1}= v_n+hf\\left(v_{n}, t_n\\right)$$\n",
    "\n",
    "\n",
    "- Euler method: \n",
    "\\begin{equation}\n",
    "v^{Euler}_{n+1}=v_{n}+K_{1} = v_n + h\\left( g -\\frac{\\beta}{m} v_n\\right),\n",
    "\\end{equation}\n",
    "\n",
    "\n",
    "\n",
    "\n"
   ]
  },
  {
   "cell_type": "code",
   "execution_count": 2,
   "id": "a91e29ac",
   "metadata": {},
   "outputs": [
    {
     "data": {
      "image/png": "[encoded data removed]",
      "text/plain": [
       "<Figure size 420x280 with 1 Axes>"
      ]
     },
     "metadata": {
      "needs_background": "light"
     },
     "output_type": "display_data"
    }
   ],
   "source": [
    "import numpy as np\n",
    "import matplotlib.pyplot as plt\n",
    "#%matplotlib\n",
    "\n",
    "Nt = 100000 # grid points  # number of discrete time intervals\n",
    "total_time = 10. # seconds\n",
    "v_arr = np.zeros(Nt+1)\n",
    "t_arr = np.linspace(0,total_time,Nt+1)\n",
    "h = float(total_time) / Nt # time step size\n",
    "m = 1.0 # kg\n",
    "g = 9.8 #m/s^2\n",
    "beta = 1.0 #1/s\n",
    "v_0 = 0. #m/s\n",
    "\n",
    "v_arr[0] = v_0\n",
    "for n in range(Nt):\n",
    "    v_n = v_arr[n]\n",
    "    v_arr[n+1] = v_n + h * (g - beta/m * v_n)\n",
    "\n",
    "#===\n",
    "fig = plt.figure( dpi = 70 ) # dots per inch\n",
    "fig.set_size_inches(6,4)\n",
    "plt.plot(t_arr, v_arr,'--r',label = 'Numerical Solution')\n",
    "#===\n",
    "v_analytic = m *g/beta + (v_0 - m*g/beta) *np.exp(-beta * t_arr/m)\n",
    "plt.plot(t_arr, v_analytic,'-k',label = 'Analytical Solution')\n",
    "plt.xlabel(r'$t\\;(\\rm sec)$',fontsize = 20)\n",
    "plt.ylabel(r'$v\\;(\\rm m/s)$', fontsize = 20)\n",
    "plt.tight_layout()\n",
    "\n",
    "    "
   ]
  },
  {
   "cell_type": "code",
   "execution_count": 3,
   "id": "77e78e88",
   "metadata": {},
   "outputs": [
    {
     "data": {
      "text/plain": [
       "[<matplotlib.lines.Line2D at 0x7fa26d8fa790>]"
      ]
     },
     "execution_count": 3,
     "metadata": {},
     "output_type": "execute_result"
    },
    {
     "data": {
      "image/png": "[encoded data removed]",
      "text/plain": [
       "<Figure size 420x280 with 1 Axes>"
      ]
     },
     "metadata": {
      "needs_background": "light"
     },
     "output_type": "display_data"
    }
   ],
   "source": [
    "error = v_arr - v_analytic\n",
    "#===\n",
    "fig = plt.figure( dpi = 70 ) # dots per inch\n",
    "fig.set_size_inches(6,4)\n",
    "plt.plot(t_arr, error,'-k',label = 'error')\n"
   ]
  },
  {
   "cell_type": "code",
   "execution_count": null,
   "id": "a448c0b9",
   "metadata": {},
   "outputs": [],
   "source": [
    "\n",
    "\n",
    "\n"
   ]
  },
  {
   "cell_type": "code",
   "execution_count": null,
   "id": "c507989d",
   "metadata": {},
   "outputs": [],
   "source": []
  },
  {
   "cell_type": "markdown",
   "id": "8bf60227",
   "metadata": {},
   "source": [
    "# Unit 5.2b: Simple harmonic oscillation -- Euler's method\n",
    "\n",
    "\n",
    "One 2nd-ODE $\\to $ Two 1st-ODEs\n",
    "$$\n",
    "\\frac{d^{2}x}{dt^{2}}=-\\omega^{2}x\\Rightarrow\\begin{cases}\n",
    "\\frac{dx}{dt}=v\\\\\n",
    "\\frac{dv}{dt}=-\\omega^{2}x\n",
    "\\end{cases}\n",
    "$$\n",
    "- Thus, in Euler method $K_1$ for $v$ and $x$ are given:\n",
    "\\begin{align*}\n",
    "K_{1}^{x} & = hv_{n} \\\\\n",
    "K_{1}^{v} & =h\\left(-\\omega^{2}x_{n}\\right)\n",
    "\\end{align*}\n",
    "- Time-integration in Euler's method\n",
    "\\begin{align*}\n",
    "x_{n+1} & =x_{n}+K_{1}^{x} = x_n + hv_{n}\\\\\n",
    "v_{n+1} & =v_{n}+K_{1}^{v} = v_n + h\\left(-\\omega^{2}x_{n}\\right)\n",
    "\\end{align*}\n",
    "\n"
   ]
  },
  {
   "cell_type": "code",
   "execution_count": 16,
   "id": "0f186d04",
   "metadata": {},
   "outputs": [
    {
     "data": {
      "text/plain": [
       "[<matplotlib.lines.Line2D at 0x7fa26da6c040>]"
      ]
     },
     "execution_count": 16,
     "metadata": {},
     "output_type": "execute_result"
    },
    {
     "data": {
      "image/png": "[encoded data removed]",
      "text/plain": [
       "<Figure size 420x280 with 1 Axes>"
      ]
     },
     "metadata": {
      "needs_background": "light"
     },
     "output_type": "display_data"
    }
   ],
   "source": [
    "import numpy as np\n",
    "import matplotlib.pyplot as plt\n",
    "\n",
    "\n",
    "#===Parameters\n",
    "Nt = 10000 # grid points  # number of discrete time intervals\n",
    "total_time = 100. # seconds\n",
    "h = float(total_time) / Nt # time step size\n",
    "\n",
    "#==arrays\n",
    "t_arr = np.linspace(0,total_time,Nt+1)\n",
    "x_arr = np.zeros(Nt+1)\n",
    "v_arr = np.zeros(Nt+1)\n",
    "\n",
    "#== Material Properties\n",
    "m = 1.\n",
    "k = 1.\n",
    "omega = 1. #\n",
    "\n",
    "#==Initial Values\n",
    "x_arr[0] = 1.# meters\n",
    "v_arr[0] = 0 # m/s\n",
    "\n",
    "#== Main loop. Iteration\n",
    "for n in range(Nt):\n",
    "    x_arr[n+1] = x_arr[n] + h * v_arr[n]\n",
    "    v_arr[n+1] = v_arr[n] + h * (- omega ** 2. * x_arr[n])\n",
    "    \n",
    "#print (x_arr)\n",
    "    \n",
    "#===\n",
    "fig = plt.figure( dpi = 70 ) # dots per inch\n",
    "fig.set_size_inches(6,4)\n",
    "plt.plot(t_arr, x_arr,'--r')\n",
    "#===\n",
    "x_analytical = 1. * np.cos(1. * t_arr)\n",
    "plt.plot(t_arr, x_analytical,'-k')\n",
    "\n",
    "\n"
   ]
  },
  {
   "cell_type": "code",
   "execution_count": null,
   "id": "d6c1d95b",
   "metadata": {},
   "outputs": [],
   "source": []
  }
 ],
 "metadata": {
  "kernelspec": {
   "display_name": "Python 3 (ipykernel)",
   "language": "python",
   "name": "python3"
  },
  "language_info": {
   "codemirror_mode": {
    "name": "ipython",
    "version": 3
   },
   "file_extension": ".py",
   "mimetype": "text/x-python",
   "name": "python",
   "nbconvert_exporter": "python",
   "pygments_lexer": "ipython3",
   "version": "3.9.12"
  }
 },
 "nbformat": 4,
 "nbformat_minor": 5
}
