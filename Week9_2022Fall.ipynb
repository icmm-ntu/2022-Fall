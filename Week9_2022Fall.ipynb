{
 "cells": [
  {
   "cell_type": "code",
   "execution_count": 16,
   "id": "b2d8afc1",
   "metadata": {},
   "outputs": [
    {
     "name": "stdout",
     "output_type": "stream",
     "text": [
      "[[ 1.  0.  0.  0.  0.]\n",
      " [ 1. -2.  1.  0.  0.]\n",
      " [ 0.  1. -2.  1.  0.]\n",
      " [ 0.  0.  1. -2.  1.]\n",
      " [ 0.  0.  0.  0.  1.]]\n",
      "[ 0.  0.  0.  0. 50.]\n"
     ]
    }
   ],
   "source": [
    "import numpy as np\n",
    "\n",
    "N = 4\n",
    "T_low = 0 # degrees\n",
    "T_high = 50 # degrees\n",
    "\n",
    "#A = np.zeros([3,3]) \n",
    "A = np.zeros([N+1,N+1]) \n",
    "b = np.zeros(N+1)\n",
    "#print (A)\n",
    "\n",
    "\n",
    "for i in range(N+1):\n",
    "    for j in range(N+1):\n",
    "        if i == j:\n",
    "            A[i,j] = -2\n",
    "        if i == j + 1:\n",
    "            A[i,j] = 1\n",
    "        if i == j - 1:\n",
    "            A[i,j] = 1\n",
    "#BC for A\n",
    "A[0,0] = 1\n",
    "A[N,N] = 1\n",
    "A[0,1] = 0\n",
    "A[N,N-1] = 0\n",
    "#BC for b\n",
    "b[0] = T_low\n",
    "b[N] = T_high\n",
    "print (A)\n",
    "print (b)\n",
    "\n",
    "\n",
    "\n",
    "\n",
    "\n"
   ]
  },
  {
   "cell_type": "code",
   "execution_count": null,
   "id": "345ba1fe",
   "metadata": {},
   "outputs": [],
   "source": []
  },
  {
   "cell_type": "code",
   "execution_count": null,
   "id": "8852a88f",
   "metadata": {},
   "outputs": [],
   "source": [
    "N = 10\n",
    "A = np.zeros([N+1,N+1]) \n",
    "\n",
    "#=====\n",
    "for i in range(1, N):\n",
    "    for j in range(1, N):\n",
    "        if j == i:# Set the diagonals to -2\n",
    "            A[i, j] = -2.\n",
    "        elif j == i+1: # non-zero off-diagonals, upper part\n",
    "            A[i,j] = 1.\n",
    "        elif j == i-1: # non-zero off-diagonals, lower part\n",
    "            A[i,j] = 1.\n",
    "\n",
    "\n",
    "#===== Boundary Conditions =====            \n",
    "# Boundary Conditions for A\n",
    "A[0,0]  = 1.\n",
    "A[1,0] = 1.\n",
    "A[N-1,N] = 1.\n",
    "A[N,N] = 1.\n",
    "# Boundary Conditions for b\n",
    "b[0]  = T_low\n",
    "b[N] = T_high\n",
    "\n",
    "print (A)   \n",
    "print (b)\n",
    "\n",
    "#=====\n",
    "T_arr = np.linalg.solve(A,b)\n",
    "h = float(Lx)/N # step size for Finite Difference\n",
    "x_arr = h * (np.arange(N+1))\n",
    "#print (x_arr)\n",
    "fig = plt.figure( dpi = 70 ) # dots per inch\n",
    "fig.set_size_inches(6,4)\n",
    "plt.plot(x_arr, T_arr,'--ko',label = 'Numerical Solution')\n",
    "plt.xlabel(r'$x\\; \\rm (m)$')\n",
    "plt.ylabel(r'$T\\; \\rm ( ^\\circ C)$')\n",
    "#plt.legend(loc=\"upper left\")\n",
    "plt.tight_layout()\n",
    "plt.savefig(\"Unit_4.14b_1d_beta_0.png\")"
   ]
  }
 ],
 "metadata": {
  "kernelspec": {
   "display_name": "Python 3 (ipykernel)",
   "language": "python",
   "name": "python3"
  },
  "language_info": {
   "codemirror_mode": {
    "name": "ipython",
    "version": 3
   },
   "file_extension": ".py",
   "mimetype": "text/x-python",
   "name": "python",
   "nbconvert_exporter": "python",
   "pygments_lexer": "ipython3",
   "version": "3.9.12"
  }
 },
 "nbformat": 4,
 "nbformat_minor": 5
}
