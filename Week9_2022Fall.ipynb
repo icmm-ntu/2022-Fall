{
 "cells": [
  {
   "cell_type": "code",
   "execution_count": 26,
   "id": "aefb6a40",
   "metadata": {},
   "outputs": [
    {
     "name": "stdout",
     "output_type": "stream",
     "text": [
      "Using matplotlib backend: QtAgg\n"
     ]
    }
   ],
   "source": [
    "%matplotlib"
   ]
  },
  {
   "cell_type": "code",
   "execution_count": 29,
   "id": "bd4c15f3",
   "metadata": {},
   "outputs": [
    {
     "name": "stdout",
     "output_type": "stream",
     "text": [
      "[ 0.  5. 10. 15. 20. 25. 30. 35. 40. 45. 50.]\n"
     ]
    },
    {
     "data": {
      "text/plain": [
       "[<matplotlib.lines.Line2D at 0x7fd26d388d30>]"
      ]
     },
     "execution_count": 29,
     "metadata": {},
     "output_type": "execute_result"
    }
   ],
   "source": [
    "import numpy as np\n",
    "import matplotlib.pyplot as plt\n",
    "\n",
    "#====\n",
    "N = 10\n",
    "T_low = 0 # degrees\n",
    "T_high = 50 # degrees\n",
    "\n",
    "#A = np.zeros([3,3]) \n",
    "A = np.zeros([N+1,N+1]) \n",
    "b = np.zeros(N+1)\n",
    "#print (A)\n",
    "\n",
    "\n",
    "for i in range(N+1):\n",
    "    for j in range(N+1):\n",
    "        if i == j:\n",
    "            A[i,j] = -2\n",
    "        if i == j + 1:\n",
    "            A[i,j] = 1\n",
    "        if i == j - 1:\n",
    "            A[i,j] = 1\n",
    "#BC for A\n",
    "A[0,0] = 1\n",
    "A[N,N] = 1\n",
    "A[0,1] = 0\n",
    "A[N,N-1] = 0\n",
    "#BC for b\n",
    "b[0] = T_low\n",
    "b[N] = T_high\n",
    "#print (A)\n",
    "#print (b)\n",
    "\n",
    "\n",
    "T_arr = np.linalg.solve(A,b)\n",
    "print (T_arr)\n",
    "\n",
    "x_arr = np.linspace(0,1,N+1)\n",
    "\n",
    "fig = plt.figure( dpi = 70 ) # dots per inch\n",
    "fig.set_size_inches(6,4)\n",
    "plt.plot(x_arr,T_arr,'r-o')\n",
    "\n",
    "T_analytic = 50. * x_arr\n",
    "plt.plot(x_arr,T_analytic,'k-')\n",
    "\n"
   ]
  },
  {
   "cell_type": "code",
   "execution_count": 36,
   "id": "f284d132",
   "metadata": {},
   "outputs": [
    {
     "name": "stdout",
     "output_type": "stream",
     "text": [
      "[[ 1.          1.        ]\n",
      " [20.08553692  0.04978707]]\n",
      "[-30  20]\n",
      "1.072763046393565 -31.072763046393565\n"
     ]
    },
    {
     "data": {
      "text/plain": [
       "[<matplotlib.lines.Line2D at 0x7fd26d2adeb0>]"
      ]
     },
     "execution_count": 36,
     "metadata": {},
     "output_type": "execute_result"
    }
   ],
   "source": [
    "\n",
    "A = np.array([[1, 1],\n",
    "    [np.exp(3), np.exp(-3.)]])\n",
    "\n",
    "b = np.array([0 - 30, 50 - 30])\n",
    "print (A)\n",
    "print (b)\n",
    "\n",
    "C,D =  np.linalg.solve(A,b)\n",
    "print (C,D)\n",
    "\n",
    "\n",
    "x_arr = np.linspace(0,1,11)\n",
    "T_arr = C * np.exp(3. * x_arr) + D * np.exp(-3. * x_arr) + 30.\n",
    "\n",
    "plt.plot(x_arr, T_arr,'r-o')\n",
    "\n"
   ]
  },
  {
   "cell_type": "code",
   "execution_count": null,
   "id": "de85923f",
   "metadata": {},
   "outputs": [],
   "source": [
    "import numpy as np\n",
    "import matplotlib.pyplot as plt\n",
    "\n",
    "T_air, T_low, T_high = 30.0, 0.0, 50.0  # degrees\n",
    "alpha = 1.\n",
    "Lx = 1. # meters\n",
    "beta = 9.\n",
    "beta_prime = beta / alpha\n",
    "N = 10\n",
    "\n",
    "\n",
    "\n",
    "\n",
    "\"\"\"\n",
    "M = np.array([[1,1],\n",
    "              [np.exp(np.sqrt(beta/alpha)),1./np.exp(np.sqrt(beta/alpha))]]) \n",
    "b = np.array([T_low - T_air, T_high - T_air])\n",
    "C,D = np.linalg.solve(M,b)\n",
    "print (C,D)\n",
    "\n",
    "\"\"\""
   ]
  }
 ],
 "metadata": {
  "kernelspec": {
   "display_name": "Python 3 (ipykernel)",
   "language": "python",
   "name": "python3"
  },
  "language_info": {
   "codemirror_mode": {
    "name": "ipython",
    "version": 3
   },
   "file_extension": ".py",
   "mimetype": "text/x-python",
   "name": "python",
   "nbconvert_exporter": "python",
   "pygments_lexer": "ipython3",
   "version": "3.9.12"
  }
 },
 "nbformat": 4,
 "nbformat_minor": 5
}
