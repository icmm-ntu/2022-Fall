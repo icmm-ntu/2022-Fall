{
 "cells": [
  {
   "cell_type": "code",
   "execution_count": 26,
   "id": "470f59d9",
   "metadata": {},
   "outputs": [
    {
     "name": "stdout",
     "output_type": "stream",
     "text": [
      "Using matplotlib backend: QtAgg\n"
     ]
    }
   ],
   "source": []
  },
  {
   "cell_type": "code",
   "execution_count": 29,
   "id": "35f87085",
   "metadata": {},
   "outputs": [
    {
     "name": "stdout",
     "output_type": "stream",
     "text": [
      "[ 0.  5. 10. 15. 20. 25. 30. 35. 40. 45. 50.]\n"
     ]
    },
    {
     "data": {
      "text/plain": [
       "[<matplotlib.lines.Line2D at 0x7fd26d388d30>]"
      ]
     },
     "execution_count": 29,
     "metadata": {},
     "output_type": "execute_result"
    }
   ],
   "source": [
    "import numpy as np\n",
    "import matplotlib.pyplot as plt\n",
    "\n",
    "#====\n",
    "N = 10\n",
    "T_low = 0 # degrees\n",
    "T_high = 50 # degrees\n",
    "\n",
    "#A = np.zeros([3,3]) \n",
    "A = np.zeros([N+1,N+1]) \n",
    "b = np.zeros(N+1)\n",
    "#print (A)\n",
    "\n",
    "\n",
    "for i in range(N+1):\n",
    "    for j in range(N+1):\n",
    "        if i == j:\n",
    "            A[i,j] = -2\n",
    "        if i == j + 1:\n",
    "            A[i,j] = 1\n",
    "        if i == j - 1:\n",
    "            A[i,j] = 1\n",
    "#BC for A\n",
    "A[0,0] = 1\n",
    "A[N,N] = 1\n",
    "A[0,1] = 0\n",
    "A[N,N-1] = 0\n",
    "#BC for b\n",
    "b[0] = T_low\n",
    "b[N] = T_high\n",
    "#print (A)\n",
    "#print (b)\n",
    "\n",
    "\n",
    "T_arr = np.linalg.solve(A,b)\n",
    "print (T_arr)\n",
    "\n",
    "x_arr = np.linspace(0,1,N+1)\n",
    "\n",
    "fig = plt.figure( dpi = 70 ) # dots per inch\n",
    "fig.set_size_inches(6,4)\n",
    "plt.plot(x_arr,T_arr,'r-o')\n",
    "\n",
    "T_analytic = 50. * x_arr\n",
    "plt.plot(x_arr,T_analytic,'k-')\n",
    "\n"
   ]
  },
  {
   "cell_type": "code",
   "execution_count": 47,
   "id": "cc4ccc47",
   "metadata": {},
   "outputs": [
    {
     "name": "stdout",
     "output_type": "stream",
     "text": [
      "[[ 1.          1.        ]\n",
      " [20.08553692  0.04978707]]\n",
      "[-30  20]\n",
      "1.072763046393565 -31.072763046393565\n"
     ]
    },
    {
     "data": {
      "text/plain": [
       "[<matplotlib.lines.Line2D at 0x7fd26cd2f4c0>]"
      ]
     },
     "execution_count": 47,
     "metadata": {},
     "output_type": "execute_result"
    }
   ],
   "source": [
    "import numpy as np\n",
    "import matplotlib.pyplot as plt\n",
    "\n",
    "A = np.array([[1, 1],\n",
    "    [np.exp(3), np.exp(-3.)]])\n",
    "\n",
    "b = np.array([0 - 30, 50 - 30])\n",
    "print (A)\n",
    "print (b)\n",
    "\n",
    "C,D =  np.linalg.solve(A,b)\n",
    "print (C,D)\n",
    "x_arr = np.linspace(0,1,11)\n",
    "T_analytic = C * np.exp(3. * x_arr) + D * np.exp(-3. * x_arr) + 30.\n",
    "plt.plot(x_arr, T_analytic,'k-')\n",
    "\n"
   ]
  },
  {
   "cell_type": "code",
   "execution_count": 7,
   "id": "448d5244",
   "metadata": {},
   "outputs": [
    {
     "name": "stdout",
     "output_type": "stream",
     "text": [
      "Using matplotlib backend: QtAgg\n"
     ]
    }
   ],
   "source": [
    "%matplotlib"
   ]
  },
  {
   "cell_type": "code",
   "execution_count": 11,
   "id": "f181fd37",
   "metadata": {},
   "outputs": [
    {
     "name": "stdout",
     "output_type": "stream",
     "text": [
      "[ 0.          1.87566156  3.6500755   5.32962972  6.9203706   8.42802482\n",
      "  9.85801992 11.2155039  12.50536369 13.73224279 14.90055796 16.01451514\n",
      " 17.07812458 18.09521527 19.06944873 20.0043322  20.90323128 21.76938198\n",
      " 22.60590246 23.41580419 24.20200281 24.96732865 25.71453686 26.44631741\n",
      " 27.16530471 27.87408709 28.5752162  29.27121608 29.96459234 30.65784113\n",
      " 31.35345815 32.05394762 32.7618313  33.47965757 34.21001061 34.95551969\n",
      " 35.71886864 36.50280551 37.31015249 38.14381602 39.00679728 39.90220301\n",
      " 40.83325667 41.80331006 42.81585537 43.87453775 44.98316847 46.1457386\n",
      " 47.36643338 48.64964732 50.        ]\n"
     ]
    },
    {
     "data": {
      "text/plain": [
       "[<matplotlib.lines.Line2D at 0x7f9f780cbe20>]"
      ]
     },
     "execution_count": 11,
     "metadata": {},
     "output_type": "execute_result"
    }
   ],
   "source": [
    "import numpy as np\n",
    "import matplotlib.pyplot as plt\n",
    "\n",
    "#====\n",
    "N = 50\n",
    "T_low = 0 # degrees\n",
    "T_high = 50 # degrees\n",
    "x_arr = np.linspace(0,1,N+1)\n",
    "#A = np.zeros([3,3]) \n",
    "A = np.zeros([N+1,N+1]) \n",
    "b = np.zeros(N+1)\n",
    "#print (A)\n",
    "\n",
    "h  = 1.0/ N # 0.1 meters\n",
    "for i in range(N+1):\n",
    "    for j in range(N+1):\n",
    "        if i == j:\n",
    "            A[i,j] = - (2. + h**2 * 9.)\n",
    "        if i == j + 1:\n",
    "            A[i,j] = 1\n",
    "        if i == j - 1:\n",
    "            A[i,j] = 1\n",
    "            \n",
    "for i in range(N+1):\n",
    "    b[i] = -h**2. * 9. * 30.\n",
    "    \n",
    "    \n",
    "#BC for A\n",
    "A[0,0] = 1\n",
    "A[N,N] = 1\n",
    "A[0,1] = 0\n",
    "A[N,N-1] = 0\n",
    "#BC for b\n",
    "b[0] = T_low\n",
    "b[N] = T_high\n",
    "\n",
    "\n",
    "#print (A)\n",
    "#print (b)\n",
    "\n",
    "\n",
    "T_arr = np.linalg.solve(A,b)\n",
    "print (T_arr)\n",
    "\n",
    "x_arr = np.linspace(0,1,N+1)\n",
    "\n",
    "fig = plt.figure( dpi = 70 ) # dots per inch\n",
    "fig.set_size_inches(6,4)\n",
    "plt.plot(x_arr,T_arr,'r-o')\n",
    "#plt.plot(x_arr, T_analytic,'k-')\n",
    "#T_analytic = 50. * x_arr\n",
    "#plt.plot(x_arr,T_analytic,'k-')\n",
    "T_analytic = C * np.exp(3. * x_arr) + D * np.exp(-3. * x_arr) + 30.\n",
    "plt.plot(x_arr, T_analytic,'k-')\n",
    "\n",
    "\n",
    "\n"
   ]
  },
  {
   "cell_type": "code",
   "execution_count": 1,
   "id": "b10bed66",
   "metadata": {},
   "outputs": [
    {
     "name": "stdout",
     "output_type": "stream",
     "text": [
      "1.072763046393565 -31.072763046393565\n"
     ]
    },
    {
     "data": {
      "image/png": "[encoded data removed]",
      "text/plain": [
       "<Figure size 420x280 with 1 Axes>"
      ]
     },
     "metadata": {
      "needs_background": "light"
     },
     "output_type": "display_data"
    }
   ],
   "source": []
  },
  {
   "cell_type": "code",
   "execution_count": null,
   "id": "0912f0a1",
   "metadata": {},
   "outputs": [],
   "source": []
  }
 ],
 "metadata": {
  "kernelspec": {
   "display_name": "Python 3 (ipykernel)",
   "language": "python",
   "name": "python3"
  },
  "language_info": {
   "codemirror_mode": {
    "name": "ipython",
    "version": 3
   },
   "file_extension": ".py",
   "mimetype": "text/x-python",
   "name": "python",
   "nbconvert_exporter": "python",
   "pygments_lexer": "ipython3",
   "version": "3.9.12"
  }
 },
 "nbformat": 4,
 "nbformat_minor": 5
}
