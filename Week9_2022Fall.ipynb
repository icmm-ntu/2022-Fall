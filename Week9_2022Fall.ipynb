{
 "cells": [
  {
   "cell_type": "code",
   "execution_count": 26,
   "id": "0d8861d1",
   "metadata": {},
   "outputs": [
    {
     "name": "stdout",
     "output_type": "stream",
     "text": [
      "Using matplotlib backend: QtAgg\n"
     ]
    }
   ],
   "source": []
  },
  {
   "cell_type": "code",
   "execution_count": 29,
   "id": "83f5e4e0",
   "metadata": {},
   "outputs": [
    {
     "name": "stdout",
     "output_type": "stream",
     "text": [
      "[ 0.  5. 10. 15. 20. 25. 30. 35. 40. 45. 50.]\n"
     ]
    },
    {
     "data": {
      "text/plain": [
       "[<matplotlib.lines.Line2D at 0x7fd26d388d30>]"
      ]
     },
     "execution_count": 29,
     "metadata": {},
     "output_type": "execute_result"
    }
   ],
   "source": [
    "import numpy as np\n",
    "import matplotlib.pyplot as plt\n",
    "\n",
    "#====\n",
    "N = 10\n",
    "T_low = 0 # degrees\n",
    "T_high = 50 # degrees\n",
    "\n",
    "#A = np.zeros([3,3]) \n",
    "A = np.zeros([N+1,N+1]) \n",
    "b = np.zeros(N+1)\n",
    "#print (A)\n",
    "\n",
    "\n",
    "for i in range(N+1):\n",
    "    for j in range(N+1):\n",
    "        if i == j:\n",
    "            A[i,j] = -2\n",
    "        if i == j + 1:\n",
    "            A[i,j] = 1\n",
    "        if i == j - 1:\n",
    "            A[i,j] = 1\n",
    "#BC for A\n",
    "A[0,0] = 1\n",
    "A[N,N] = 1\n",
    "A[0,1] = 0\n",
    "A[N,N-1] = 0\n",
    "#BC for b\n",
    "b[0] = T_low\n",
    "b[N] = T_high\n",
    "#print (A)\n",
    "#print (b)\n",
    "\n",
    "\n",
    "T_arr = np.linalg.solve(A,b)\n",
    "print (T_arr)\n",
    "\n",
    "x_arr = np.linspace(0,1,N+1)\n",
    "\n",
    "fig = plt.figure( dpi = 70 ) # dots per inch\n",
    "fig.set_size_inches(6,4)\n",
    "plt.plot(x_arr,T_arr,'r-o')\n",
    "\n",
    "T_analytic = 50. * x_arr\n",
    "plt.plot(x_arr,T_analytic,'k-')\n",
    "\n"
   ]
  },
  {
   "cell_type": "code",
   "execution_count": 47,
   "id": "63e00066",
   "metadata": {},
   "outputs": [
    {
     "name": "stdout",
     "output_type": "stream",
     "text": [
      "[[ 1.          1.        ]\n",
      " [20.08553692  0.04978707]]\n",
      "[-30  20]\n",
      "1.072763046393565 -31.072763046393565\n"
     ]
    },
    {
     "data": {
      "text/plain": [
       "[<matplotlib.lines.Line2D at 0x7fd26cd2f4c0>]"
      ]
     },
     "execution_count": 47,
     "metadata": {},
     "output_type": "execute_result"
    }
   ],
   "source": [
    "import numpy as np\n",
    "import matplotlib.pyplot as plt\n",
    "\n",
    "A = np.array([[1, 1],\n",
    "    [np.exp(3), np.exp(-3.)]])\n",
    "\n",
    "b = np.array([0 - 30, 50 - 30])\n",
    "print (A)\n",
    "print (b)\n",
    "\n",
    "C,D =  np.linalg.solve(A,b)\n",
    "print (C,D)\n",
    "x_arr = np.linspace(0,1,11)\n",
    "T_analytic = C * np.exp(3. * x_arr) + D * np.exp(-3. * x_arr) + 30.\n",
    "plt.plot(x_arr, T_analytic,'k-')\n",
    "\n"
   ]
  },
  {
   "cell_type": "code",
   "execution_count": 7,
   "id": "5d4ec2f4",
   "metadata": {},
   "outputs": [
    {
     "name": "stdout",
     "output_type": "stream",
     "text": [
      "Using matplotlib backend: QtAgg\n"
     ]
    }
   ],
   "source": [
    "# %matplotlib"
   ]
  },
  {
   "cell_type": "code",
   "execution_count": 3,
   "id": "9f2cbcac",
   "metadata": {},
   "outputs": [
    {
     "data": {
      "text/plain": [
       "[<matplotlib.lines.Line2D at 0x7f8189b966a0>]"
      ]
     },
     "execution_count": 3,
     "metadata": {},
     "output_type": "execute_result"
    },
    {
     "data": {
      "image/png": "[encoded data removed]",
      "text/plain": [
       "<Figure size 420x280 with 1 Axes>"
      ]
     },
     "metadata": {
      "needs_background": "light"
     },
     "output_type": "display_data"
    }
   ],
   "source": [
    "import numpy as np\n",
    "import matplotlib.pyplot as plt\n",
    "\n",
    "#====\n",
    "N = 10\n",
    "T_low = 0 # degrees\n",
    "T_high = 50 # degrees\n",
    "x_arr = np.linspace(0,1,N+1)\n",
    "#A = np.zeros([3,3]) \n",
    "A = np.zeros([N+1,N+1]) \n",
    "b = np.zeros(N+1)\n",
    "#print (A)\n",
    "\n",
    "h  = 1.0/ N # 0.1 meters\n",
    "for i in range(N+1):\n",
    "    for j in range(N+1):\n",
    "        if i == j:\n",
    "            A[i,j] = - (2. + h**2 * 9.)\n",
    "        if i == j + 1:\n",
    "            A[i,j] = 1\n",
    "        if i == j - 1:\n",
    "            A[i,j] = 1\n",
    "            \n",
    "for i in range(N+1):\n",
    "    b[i] = -h**2. * 9. * 30.\n",
    "    \n",
    "    \n",
    "#BC for A\n",
    "A[0,0] = 1\n",
    "A[N,N] = 1\n",
    "A[0,1] = 0\n",
    "A[N,N-1] = 0\n",
    "#BC for b\n",
    "b[0] = T_low\n",
    "b[N] = T_high\n",
    "\n",
    "\n",
    "#print (A)\n",
    "#print (b)\n",
    "\n",
    "\n",
    "T_arr = np.linalg.solve(A,b)\n",
    "#print (T_arr)\n",
    "\n",
    "x_arr = np.linspace(0,1,N+1)\n",
    "\n",
    "fig = plt.figure( dpi = 70 ) # dots per inch\n",
    "fig.set_size_inches(6,4)\n",
    "plt.plot(x_arr,T_arr,'r-o')\n",
    "#plt.plot(x_arr, T_analytic,'k-')\n",
    "#T_analytic = 50. * x_arr\n",
    "#plt.plot(x_arr,T_analytic,'k-')\n",
    "#T_analytic = C * np.exp(3. * x_arr) + D * np.exp(-3. * x_arr) + 30.\n",
    "#plt.plot(x_arr, T_analytic,'k-')\n"
   ]
  },
  {
   "cell_type": "code",
   "execution_count": 8,
   "id": "d4f8df56",
   "metadata": {},
   "outputs": [
    {
     "data": {
      "image/png": "[encoded data removed]",
      "text/plain": [
       "<Figure size 600x400 with 2 Axes>"
      ]
     },
     "metadata": {
      "needs_background": "light"
     },
     "output_type": "display_data"
    }
   ],
   "source": [
    "\n",
    "fig = plt.figure( dpi = 100 ) # set figure resolution, dots per inch\n",
    "fig.set_size_inches(6,4)\n",
    "y_arr = np.zeros(N +1)\n",
    "\n",
    "\n",
    "plt.scatter(x_arr, y_arr, c = T_arr, cmap='jet', s = 20)\n",
    "clb = plt.colorbar()\n",
    "plt.clim(0,50)\n"
   ]
  },
  {
   "cell_type": "code",
   "execution_count": 24,
   "id": "3fb0f46d",
   "metadata": {},
   "outputs": [
    {
     "data": {
      "text/plain": [
       "(0.0, 1.0, 0.0, 0.1)"
      ]
     },
     "execution_count": 24,
     "metadata": {},
     "output_type": "execute_result"
    },
    {
     "data": {
      "image/png": "[encoded data removed]",
      "text/plain": [
       "<Figure size 600x400 with 2 Axes>"
      ]
     },
     "metadata": {
      "needs_background": "light"
     },
     "output_type": "display_data"
    }
   ],
   "source": [
    "Lx = 1. # meters\n",
    "Ly = 0.1 # meters\n",
    "N = 10\n",
    "x = np.linspace(0, 1., N+1)\n",
    "y = np.linspace(0, 0.1, N+1)\n",
    "T_2d = np.zeros([N+1,N+1]) \n",
    "#===\n",
    "\n",
    "for i in range(N+1):\n",
    "    for j in range(N+1):\n",
    "        T_2d[i,j] = T_arr[j]\n",
    "\n",
    "#\n",
    "fig = plt.figure( dpi = 100 ) # dots per inch\n",
    "fig.set_size_inches(6,4)\n",
    "\n",
    "plt.contourf(x,y, T_2d, 100, cmap = 'jet')\n",
    "\n",
    "plt.colorbar(ticks=[0,10, 20,30,40,50])\n",
    "plt.ylabel('y')\n",
    "plt.xlabel('x')\n",
    "plt.axis('equal')\n",
    "\n"
   ]
  },
  {
   "cell_type": "code",
   "execution_count": null,
   "id": "24f16409",
   "metadata": {},
   "outputs": [],
   "source": [
    "clb = plt.contourf(x, y, T_2d, 100, cmap = 'jet')\n",
    "\n",
    "\n"
   ]
  },
  {
   "cell_type": "code",
   "execution_count": null,
   "id": "a8e331a3",
   "metadata": {},
   "outputs": [],
   "source": []
  }
 ],
 "metadata": {
  "kernelspec": {
   "display_name": "Python 3 (ipykernel)",
   "language": "python",
   "name": "python3"
  },
  "language_info": {
   "codemirror_mode": {
    "name": "ipython",
    "version": 3
   },
   "file_extension": ".py",
   "mimetype": "text/x-python",
   "name": "python",
   "nbconvert_exporter": "python",
   "pygments_lexer": "ipython3",
   "version": "3.9.12"
  }
 },
 "nbformat": 4,
 "nbformat_minor": 5
}
