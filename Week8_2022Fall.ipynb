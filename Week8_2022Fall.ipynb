{
 "cells": [
  {
   "cell_type": "code",
   "execution_count": 7,
   "id": "c06a86ce",
   "metadata": {},
   "outputs": [
    {
     "name": "stdout",
     "output_type": "stream",
     "text": [
      "x1 =    0.971 m\n",
      "x2 =    2.457 m\n",
      "x3 =    3.429 m\n",
      "x4 =    4.400 m\n",
      "F1 =   -1.029 N\n",
      "F2 =   -1.029 N\n",
      "F3 =   -1.029 N\n",
      "F4 =   -1.029 N\n"
     ]
    }
   ],
   "source": [
    "import numpy as np\n",
    "#===\n",
    "def Compute_X(k_vec,l_vec,x4):\n",
    "    k1,k2,k3,k4 = k_vec\n",
    "    L1_0,L2_0,L3_0,L4_0 = l_vec\n",
    "\n",
    "    A = np.array([[ k1+k2, -k2, 0.],\n",
    "                  [-k2, k2+k3, -k3],\n",
    "                  [0., -k3, k3+k4 ]])\n",
    "    b1 = k1 * L1_0  - k2 * L2_0\n",
    "    b2 = k2 * L2_0  - k3 * L3_0\n",
    "    b3 = k3 * L3_0  - k4 * L4_0 + k4 * x4\n",
    "\n",
    "    b = np.array([b1, b2, b3])\n",
    "    x_arr = np.linalg.solve(A,b)\n",
    "    x1,x2,x3 = x_arr\n",
    "    print (\"x1 = %8.3f m\"%x1)\n",
    "    print (\"x2 = %8.3f m\"%x2)\n",
    "    print (\"x3 = %8.3f m\"%x3)\n",
    "    print (\"x4 = %8.3f m\"%x4)\n",
    "    return x_arr\n",
    "#===\n",
    "def CheckForce(k_vec,l_vec,x_arr,x4):\n",
    "    k1,k2,k3,k4 = k_vec\n",
    "    L1_0,L2_0,L3_0,L4_0 = l_vec\n",
    "    x1,x2,x3 = x_arr\n",
    "    F1 = k1 * (x1 - L1_0)\n",
    "    F2 = k2 * (x2 - x1 - L2_0)\n",
    "    F3 = k3 * (x3 - x2 - L3_0)\n",
    "    F4 = k4 * (x4 - x3 - L4_0)\n",
    "    print (\"F1 = %8.3f N\"%F1)\n",
    "    print (\"F2 = %8.3f N\"%F2)\n",
    "    print (\"F3 = %8.3f N\"%F3)\n",
    "    print (\"F4 = %8.3f N\"%F4)\n",
    "\n",
    "\n",
    "#(a)\n",
    "print (\"(a)\")\n",
    "k_vec = [1.0,1.0,1.0,1.0]  # N/m\n",
    "l_vec = [1.0,1.0,1.0,1.0] # m\n",
    "x4 = 4.4 #m\n",
    "x_arr = Compute_X(k_vec,l_vec,x4)\n",
    "print (\"---\")\n",
    "CheckForce(k_vec,l_vec,x_arr,x4)\n",
    "print (\"\\n\")\n",
    "\n",
    "#===\n",
    "#(b)\n",
    "print (\"(b)\")\n",
    "k_vec = [1.0,2.0,1.0,1.0]  # N/m\n",
    "l_vec = [1.0,1.0,1.0,1.0] # m\n",
    "x4 = 4.4 #m\n",
    "x_arr = Compute_X(k_vec,l_vec,x4)\n",
    "print (\"---\")\n",
    "CheckForce(k_vec,l_vec,x_arr,x4)\n",
    "print (\"\\n\")\n",
    "\n",
    "#===\n",
    "#(c)\n",
    "print (\"(c)\")\n",
    "k_vec = [1.0,2.0,1.0,1.0]  # N/m\n",
    "l_vec = [1.0,1.0,2.0,1.0] # m\n",
    "x4 = 4.4 #m\n",
    "x_arr = Compute_X(k_vec,l_vec,x4)\n",
    "print (\"---\")\n",
    "CheckForce(k_vec,l_vec,x_arr,x4)"
   ]
  },
  {
   "cell_type": "code",
   "execution_count": null,
   "id": "d131c05b",
   "metadata": {},
   "outputs": [],
   "source": []
  }
 ],
 "metadata": {
  "kernelspec": {
   "display_name": "Python 3 (ipykernel)",
   "language": "python",
   "name": "python3"
  },
  "language_info": {
   "codemirror_mode": {
    "name": "ipython",
    "version": 3
   },
   "file_extension": ".py",
   "mimetype": "text/x-python",
   "name": "python",
   "nbconvert_exporter": "python",
   "pygments_lexer": "ipython3",
   "version": "3.9.12"
  }
 },
 "nbformat": 4,
 "nbformat_minor": 5
}
